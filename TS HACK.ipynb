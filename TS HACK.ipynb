{
 "cells": [
  {
   "cell_type": "markdown",
   "metadata": {},
   "source": [
    "# IMPORTING LIBRARIES"
   ]
  },
  {
   "cell_type": "code",
   "execution_count": 1,
   "metadata": {},
   "outputs": [],
   "source": [
    "import pandas as pd\n",
    "import numpy as np\n",
    "from matplotlib import pyplot as plt\n",
    "import seaborn as sns\n",
    "import os\n",
    "from scipy.stats import iqr \n",
    "from sklearn.preprocessing import LabelEncoder\n",
    "from collections import Counter as c\n",
    "from sklearn.metrics import r2_score,mean_absolute_error,confusion_matrix, classification_report  \n",
    "from sklearn.model_selection import train_test_split  \n",
    "from sklearn.ensemble import RandomForestRegressor"
   ]
  },
  {
   "cell_type": "markdown",
   "metadata": {},
   "source": [
    "\n",
    "# IMPORTING DATASET"
   ]
  },
  {
   "cell_type": "code",
   "execution_count": 2,
   "metadata": {
    "scrolled": false
   },
   "outputs": [
    {
     "data": {
      "text/html": [
       "<div>\n",
       "<style scoped>\n",
       "    .dataframe tbody tr th:only-of-type {\n",
       "        vertical-align: middle;\n",
       "    }\n",
       "\n",
       "    .dataframe tbody tr th {\n",
       "        vertical-align: top;\n",
       "    }\n",
       "\n",
       "    .dataframe thead th {\n",
       "        text-align: right;\n",
       "    }\n",
       "</style>\n",
       "<table border=\"1\" class=\"dataframe\">\n",
       "  <thead>\n",
       "    <tr style=\"text-align: right;\">\n",
       "      <th></th>\n",
       "      <th>Day</th>\n",
       "      <th>Std Week</th>\n",
       "      <th>Month_id</th>\n",
       "      <th>Month</th>\n",
       "      <th>Season_id</th>\n",
       "      <th>Season</th>\n",
       "      <th>Year</th>\n",
       "      <th>Dcode</th>\n",
       "      <th>Mcode</th>\n",
       "      <th>Dist_id</th>\n",
       "      <th>...</th>\n",
       "      <th>CropSeason_id</th>\n",
       "      <th>crop_season</th>\n",
       "      <th>Date</th>\n",
       "      <th>Temp_min</th>\n",
       "      <th>Temp_max</th>\n",
       "      <th>Rainfall</th>\n",
       "      <th>Humidity_min</th>\n",
       "      <th>Humidity_max</th>\n",
       "      <th>Wind_min</th>\n",
       "      <th>Wind_max</th>\n",
       "    </tr>\n",
       "  </thead>\n",
       "  <tbody>\n",
       "    <tr>\n",
       "      <th>0</th>\n",
       "      <td>365.0</td>\n",
       "      <td>52.0</td>\n",
       "      <td>12.0</td>\n",
       "      <td>Dec</td>\n",
       "      <td>1.0</td>\n",
       "      <td>PM</td>\n",
       "      <td>2019</td>\n",
       "      <td>1</td>\n",
       "      <td>1</td>\n",
       "      <td>1.0</td>\n",
       "      <td>...</td>\n",
       "      <td>1.0</td>\n",
       "      <td>rabi</td>\n",
       "      <td>2019-12-31</td>\n",
       "      <td>15.80</td>\n",
       "      <td>26.70</td>\n",
       "      <td>0.0</td>\n",
       "      <td>37.20</td>\n",
       "      <td>81.60</td>\n",
       "      <td>0.0</td>\n",
       "      <td>2.1</td>\n",
       "    </tr>\n",
       "    <tr>\n",
       "      <th>1</th>\n",
       "      <td>365.0</td>\n",
       "      <td>52.0</td>\n",
       "      <td>12.0</td>\n",
       "      <td>Dec</td>\n",
       "      <td>1.0</td>\n",
       "      <td>PM</td>\n",
       "      <td>2019</td>\n",
       "      <td>1</td>\n",
       "      <td>2</td>\n",
       "      <td>1.0</td>\n",
       "      <td>...</td>\n",
       "      <td>1.0</td>\n",
       "      <td>rabi</td>\n",
       "      <td>2019-12-31</td>\n",
       "      <td>15.55</td>\n",
       "      <td>25.55</td>\n",
       "      <td>0.0</td>\n",
       "      <td>38.60</td>\n",
       "      <td>78.30</td>\n",
       "      <td>0.0</td>\n",
       "      <td>7.1</td>\n",
       "    </tr>\n",
       "    <tr>\n",
       "      <th>2</th>\n",
       "      <td>365.0</td>\n",
       "      <td>52.0</td>\n",
       "      <td>12.0</td>\n",
       "      <td>Dec</td>\n",
       "      <td>1.0</td>\n",
       "      <td>PM</td>\n",
       "      <td>2019</td>\n",
       "      <td>1</td>\n",
       "      <td>3</td>\n",
       "      <td>1.0</td>\n",
       "      <td>...</td>\n",
       "      <td>1.0</td>\n",
       "      <td>rabi</td>\n",
       "      <td>2019-12-31</td>\n",
       "      <td>17.65</td>\n",
       "      <td>25.90</td>\n",
       "      <td>0.0</td>\n",
       "      <td>40.95</td>\n",
       "      <td>79.95</td>\n",
       "      <td>0.0</td>\n",
       "      <td>1.4</td>\n",
       "    </tr>\n",
       "    <tr>\n",
       "      <th>3</th>\n",
       "      <td>365.0</td>\n",
       "      <td>52.0</td>\n",
       "      <td>12.0</td>\n",
       "      <td>Dec</td>\n",
       "      <td>1.0</td>\n",
       "      <td>PM</td>\n",
       "      <td>2019</td>\n",
       "      <td>1</td>\n",
       "      <td>4</td>\n",
       "      <td>1.0</td>\n",
       "      <td>...</td>\n",
       "      <td>1.0</td>\n",
       "      <td>rabi</td>\n",
       "      <td>2019-12-31</td>\n",
       "      <td>18.40</td>\n",
       "      <td>28.10</td>\n",
       "      <td>0.0</td>\n",
       "      <td>45.90</td>\n",
       "      <td>94.80</td>\n",
       "      <td>0.0</td>\n",
       "      <td>1.1</td>\n",
       "    </tr>\n",
       "    <tr>\n",
       "      <th>4</th>\n",
       "      <td>365.0</td>\n",
       "      <td>52.0</td>\n",
       "      <td>12.0</td>\n",
       "      <td>Dec</td>\n",
       "      <td>1.0</td>\n",
       "      <td>PM</td>\n",
       "      <td>2019</td>\n",
       "      <td>1</td>\n",
       "      <td>5</td>\n",
       "      <td>1.0</td>\n",
       "      <td>...</td>\n",
       "      <td>1.0</td>\n",
       "      <td>rabi</td>\n",
       "      <td>2019-12-31</td>\n",
       "      <td>19.00</td>\n",
       "      <td>25.80</td>\n",
       "      <td>0.0</td>\n",
       "      <td>45.70</td>\n",
       "      <td>89.10</td>\n",
       "      <td>0.1</td>\n",
       "      <td>2.1</td>\n",
       "    </tr>\n",
       "    <tr>\n",
       "      <th>...</th>\n",
       "      <td>...</td>\n",
       "      <td>...</td>\n",
       "      <td>...</td>\n",
       "      <td>...</td>\n",
       "      <td>...</td>\n",
       "      <td>...</td>\n",
       "      <td>...</td>\n",
       "      <td>...</td>\n",
       "      <td>...</td>\n",
       "      <td>...</td>\n",
       "      <td>...</td>\n",
       "      <td>...</td>\n",
       "      <td>...</td>\n",
       "      <td>...</td>\n",
       "      <td>...</td>\n",
       "      <td>...</td>\n",
       "      <td>...</td>\n",
       "      <td>...</td>\n",
       "      <td>...</td>\n",
       "      <td>...</td>\n",
       "      <td>...</td>\n",
       "    </tr>\n",
       "    <tr>\n",
       "      <th>554186</th>\n",
       "      <td>NaN</td>\n",
       "      <td>NaN</td>\n",
       "      <td>NaN</td>\n",
       "      <td>NaN</td>\n",
       "      <td>NaN</td>\n",
       "      <td>NaN</td>\n",
       "      <td>2017</td>\n",
       "      <td>33</td>\n",
       "      <td>7</td>\n",
       "      <td>34.0</td>\n",
       "      <td>...</td>\n",
       "      <td>1.0</td>\n",
       "      <td>rabi</td>\n",
       "      <td>2017-01-01</td>\n",
       "      <td>14.50</td>\n",
       "      <td>30.70</td>\n",
       "      <td>0.0</td>\n",
       "      <td>31.10</td>\n",
       "      <td>89.40</td>\n",
       "      <td>NaN</td>\n",
       "      <td>10.3</td>\n",
       "    </tr>\n",
       "    <tr>\n",
       "      <th>554187</th>\n",
       "      <td>NaN</td>\n",
       "      <td>NaN</td>\n",
       "      <td>NaN</td>\n",
       "      <td>NaN</td>\n",
       "      <td>NaN</td>\n",
       "      <td>NaN</td>\n",
       "      <td>2017</td>\n",
       "      <td>33</td>\n",
       "      <td>9</td>\n",
       "      <td>34.0</td>\n",
       "      <td>...</td>\n",
       "      <td>1.0</td>\n",
       "      <td>rabi</td>\n",
       "      <td>2017-01-01</td>\n",
       "      <td>15.80</td>\n",
       "      <td>31.20</td>\n",
       "      <td>0.0</td>\n",
       "      <td>25.00</td>\n",
       "      <td>61.00</td>\n",
       "      <td>NaN</td>\n",
       "      <td>5.4</td>\n",
       "    </tr>\n",
       "    <tr>\n",
       "      <th>554188</th>\n",
       "      <td>NaN</td>\n",
       "      <td>NaN</td>\n",
       "      <td>NaN</td>\n",
       "      <td>NaN</td>\n",
       "      <td>NaN</td>\n",
       "      <td>NaN</td>\n",
       "      <td>2017</td>\n",
       "      <td>33</td>\n",
       "      <td>10</td>\n",
       "      <td>34.0</td>\n",
       "      <td>...</td>\n",
       "      <td>1.0</td>\n",
       "      <td>rabi</td>\n",
       "      <td>2017-01-01</td>\n",
       "      <td>19.00</td>\n",
       "      <td>30.50</td>\n",
       "      <td>0.0</td>\n",
       "      <td>30.30</td>\n",
       "      <td>79.60</td>\n",
       "      <td>NaN</td>\n",
       "      <td>NaN</td>\n",
       "    </tr>\n",
       "    <tr>\n",
       "      <th>554189</th>\n",
       "      <td>NaN</td>\n",
       "      <td>NaN</td>\n",
       "      <td>NaN</td>\n",
       "      <td>NaN</td>\n",
       "      <td>NaN</td>\n",
       "      <td>NaN</td>\n",
       "      <td>2017</td>\n",
       "      <td>33</td>\n",
       "      <td>12</td>\n",
       "      <td>34.0</td>\n",
       "      <td>...</td>\n",
       "      <td>1.0</td>\n",
       "      <td>rabi</td>\n",
       "      <td>2017-01-01</td>\n",
       "      <td>13.40</td>\n",
       "      <td>30.00</td>\n",
       "      <td>0.0</td>\n",
       "      <td>45.00</td>\n",
       "      <td>82.70</td>\n",
       "      <td>NaN</td>\n",
       "      <td>12.2</td>\n",
       "    </tr>\n",
       "    <tr>\n",
       "      <th>554190</th>\n",
       "      <td>NaN</td>\n",
       "      <td>NaN</td>\n",
       "      <td>NaN</td>\n",
       "      <td>NaN</td>\n",
       "      <td>NaN</td>\n",
       "      <td>NaN</td>\n",
       "      <td>2017</td>\n",
       "      <td>33</td>\n",
       "      <td>13</td>\n",
       "      <td>34.0</td>\n",
       "      <td>...</td>\n",
       "      <td>1.0</td>\n",
       "      <td>rabi</td>\n",
       "      <td>2017-01-01</td>\n",
       "      <td>13.30</td>\n",
       "      <td>31.70</td>\n",
       "      <td>0.0</td>\n",
       "      <td>24.60</td>\n",
       "      <td>80.50</td>\n",
       "      <td>NaN</td>\n",
       "      <td>6.5</td>\n",
       "    </tr>\n",
       "  </tbody>\n",
       "</table>\n",
       "<p>554191 rows × 23 columns</p>\n",
       "</div>"
      ],
      "text/plain": [
       "          Day  Std Week  Month_id Month  Season_id Season  Year  Dcode  Mcode  \\\n",
       "0       365.0      52.0      12.0   Dec        1.0     PM  2019      1      1   \n",
       "1       365.0      52.0      12.0   Dec        1.0     PM  2019      1      2   \n",
       "2       365.0      52.0      12.0   Dec        1.0     PM  2019      1      3   \n",
       "3       365.0      52.0      12.0   Dec        1.0     PM  2019      1      4   \n",
       "4       365.0      52.0      12.0   Dec        1.0     PM  2019      1      5   \n",
       "...       ...       ...       ...   ...        ...    ...   ...    ...    ...   \n",
       "554186    NaN       NaN       NaN   NaN        NaN    NaN  2017     33      7   \n",
       "554187    NaN       NaN       NaN   NaN        NaN    NaN  2017     33      9   \n",
       "554188    NaN       NaN       NaN   NaN        NaN    NaN  2017     33     10   \n",
       "554189    NaN       NaN       NaN   NaN        NaN    NaN  2017     33     12   \n",
       "554190    NaN       NaN       NaN   NaN        NaN    NaN  2017     33     13   \n",
       "\n",
       "        Dist_id  ... CropSeason_id  crop_season       Date  Temp_min Temp_max  \\\n",
       "0           1.0  ...           1.0         rabi 2019-12-31     15.80    26.70   \n",
       "1           1.0  ...           1.0         rabi 2019-12-31     15.55    25.55   \n",
       "2           1.0  ...           1.0         rabi 2019-12-31     17.65    25.90   \n",
       "3           1.0  ...           1.0         rabi 2019-12-31     18.40    28.10   \n",
       "4           1.0  ...           1.0         rabi 2019-12-31     19.00    25.80   \n",
       "...         ...  ...           ...          ...        ...       ...      ...   \n",
       "554186     34.0  ...           1.0         rabi 2017-01-01     14.50    30.70   \n",
       "554187     34.0  ...           1.0         rabi 2017-01-01     15.80    31.20   \n",
       "554188     34.0  ...           1.0         rabi 2017-01-01     19.00    30.50   \n",
       "554189     34.0  ...           1.0         rabi 2017-01-01     13.40    30.00   \n",
       "554190     34.0  ...           1.0         rabi 2017-01-01     13.30    31.70   \n",
       "\n",
       "       Rainfall  Humidity_min  Humidity_max  Wind_min  Wind_max  \n",
       "0           0.0         37.20         81.60       0.0       2.1  \n",
       "1           0.0         38.60         78.30       0.0       7.1  \n",
       "2           0.0         40.95         79.95       0.0       1.4  \n",
       "3           0.0         45.90         94.80       0.0       1.1  \n",
       "4           0.0         45.70         89.10       0.1       2.1  \n",
       "...         ...           ...           ...       ...       ...  \n",
       "554186      0.0         31.10         89.40       NaN      10.3  \n",
       "554187      0.0         25.00         61.00       NaN       5.4  \n",
       "554188      0.0         30.30         79.60       NaN       NaN  \n",
       "554189      0.0         45.00         82.70       NaN      12.2  \n",
       "554190      0.0         24.60         80.50       NaN       6.5  \n",
       "\n",
       "[554191 rows x 23 columns]"
      ]
     },
     "execution_count": 2,
     "metadata": {},
     "output_type": "execute_result"
    }
   ],
   "source": [
    "#weather data\n",
    "os.chdir(\"C:/Users/ashwi/Desktop/hack data\")\n",
    "data = pd.read_excel(\"6_weather_data_ (2).xlsx\")\n",
    "data"
   ]
  },
  {
   "cell_type": "code",
   "execution_count": 3,
   "metadata": {},
   "outputs": [
    {
     "data": {
      "text/plain": [
       "Day              214984\n",
       "Std Week         214985\n",
       "Month_id         214985\n",
       "Month            214984\n",
       "Season_id        214985\n",
       "Season           214985\n",
       "Year                  0\n",
       "Dcode                 0\n",
       "Mcode                 0\n",
       "Dist_id           10272\n",
       "District              0\n",
       "Mandal Code           0\n",
       "Mandal                0\n",
       "CropSeason_id    124413\n",
       "crop_season      124413\n",
       "Date                  0\n",
       "Temp_min          11751\n",
       "Temp_max          11751\n",
       "Rainfall              1\n",
       "Humidity_min      11923\n",
       "Humidity_max      11919\n",
       "Wind_min         215804\n",
       "Wind_max          38461\n",
       "dtype: int64"
      ]
     },
     "execution_count": 3,
     "metadata": {},
     "output_type": "execute_result"
    }
   ],
   "source": [
    "data.isnull().sum() # checking null values of weather data"
   ]
  },
  {
   "cell_type": "markdown",
   "metadata": {},
   "source": [
    "Taking necessary data as temp dataset"
   ]
  },
  {
   "cell_type": "code",
   "execution_count": 4,
   "metadata": {},
   "outputs": [
    {
     "data": {
      "text/html": [
       "<div>\n",
       "<style scoped>\n",
       "    .dataframe tbody tr th:only-of-type {\n",
       "        vertical-align: middle;\n",
       "    }\n",
       "\n",
       "    .dataframe tbody tr th {\n",
       "        vertical-align: top;\n",
       "    }\n",
       "\n",
       "    .dataframe thead th {\n",
       "        text-align: right;\n",
       "    }\n",
       "</style>\n",
       "<table border=\"1\" class=\"dataframe\">\n",
       "  <thead>\n",
       "    <tr style=\"text-align: right;\">\n",
       "      <th></th>\n",
       "      <th>Season_id</th>\n",
       "      <th>Season</th>\n",
       "      <th>Year</th>\n",
       "      <th>Dist_id</th>\n",
       "      <th>District</th>\n",
       "      <th>CropSeason_id</th>\n",
       "      <th>crop_season</th>\n",
       "      <th>Temp_min</th>\n",
       "      <th>Temp_max</th>\n",
       "      <th>Rainfall</th>\n",
       "      <th>Humidity_min</th>\n",
       "      <th>Humidity_max</th>\n",
       "      <th>Wind_min</th>\n",
       "      <th>Wind_max</th>\n",
       "    </tr>\n",
       "  </thead>\n",
       "  <tbody>\n",
       "    <tr>\n",
       "      <th>0</th>\n",
       "      <td>1.0</td>\n",
       "      <td>PM</td>\n",
       "      <td>2019</td>\n",
       "      <td>1.0</td>\n",
       "      <td>ADILABAD</td>\n",
       "      <td>1.0</td>\n",
       "      <td>rabi</td>\n",
       "      <td>15.80</td>\n",
       "      <td>26.70</td>\n",
       "      <td>0.0</td>\n",
       "      <td>37.20</td>\n",
       "      <td>81.60</td>\n",
       "      <td>0.0</td>\n",
       "      <td>2.1</td>\n",
       "    </tr>\n",
       "    <tr>\n",
       "      <th>1</th>\n",
       "      <td>1.0</td>\n",
       "      <td>PM</td>\n",
       "      <td>2019</td>\n",
       "      <td>1.0</td>\n",
       "      <td>ADILABAD</td>\n",
       "      <td>1.0</td>\n",
       "      <td>rabi</td>\n",
       "      <td>15.55</td>\n",
       "      <td>25.55</td>\n",
       "      <td>0.0</td>\n",
       "      <td>38.60</td>\n",
       "      <td>78.30</td>\n",
       "      <td>0.0</td>\n",
       "      <td>7.1</td>\n",
       "    </tr>\n",
       "    <tr>\n",
       "      <th>2</th>\n",
       "      <td>1.0</td>\n",
       "      <td>PM</td>\n",
       "      <td>2019</td>\n",
       "      <td>1.0</td>\n",
       "      <td>ADILABAD</td>\n",
       "      <td>1.0</td>\n",
       "      <td>rabi</td>\n",
       "      <td>17.65</td>\n",
       "      <td>25.90</td>\n",
       "      <td>0.0</td>\n",
       "      <td>40.95</td>\n",
       "      <td>79.95</td>\n",
       "      <td>0.0</td>\n",
       "      <td>1.4</td>\n",
       "    </tr>\n",
       "    <tr>\n",
       "      <th>3</th>\n",
       "      <td>1.0</td>\n",
       "      <td>PM</td>\n",
       "      <td>2019</td>\n",
       "      <td>1.0</td>\n",
       "      <td>ADILABAD</td>\n",
       "      <td>1.0</td>\n",
       "      <td>rabi</td>\n",
       "      <td>18.40</td>\n",
       "      <td>28.10</td>\n",
       "      <td>0.0</td>\n",
       "      <td>45.90</td>\n",
       "      <td>94.80</td>\n",
       "      <td>0.0</td>\n",
       "      <td>1.1</td>\n",
       "    </tr>\n",
       "    <tr>\n",
       "      <th>4</th>\n",
       "      <td>1.0</td>\n",
       "      <td>PM</td>\n",
       "      <td>2019</td>\n",
       "      <td>1.0</td>\n",
       "      <td>ADILABAD</td>\n",
       "      <td>1.0</td>\n",
       "      <td>rabi</td>\n",
       "      <td>19.00</td>\n",
       "      <td>25.80</td>\n",
       "      <td>0.0</td>\n",
       "      <td>45.70</td>\n",
       "      <td>89.10</td>\n",
       "      <td>0.1</td>\n",
       "      <td>2.1</td>\n",
       "    </tr>\n",
       "    <tr>\n",
       "      <th>...</th>\n",
       "      <td>...</td>\n",
       "      <td>...</td>\n",
       "      <td>...</td>\n",
       "      <td>...</td>\n",
       "      <td>...</td>\n",
       "      <td>...</td>\n",
       "      <td>...</td>\n",
       "      <td>...</td>\n",
       "      <td>...</td>\n",
       "      <td>...</td>\n",
       "      <td>...</td>\n",
       "      <td>...</td>\n",
       "      <td>...</td>\n",
       "      <td>...</td>\n",
       "    </tr>\n",
       "    <tr>\n",
       "      <th>554186</th>\n",
       "      <td>NaN</td>\n",
       "      <td>NaN</td>\n",
       "      <td>2017</td>\n",
       "      <td>34.0</td>\n",
       "      <td>YADADHRI(BHONGIR)</td>\n",
       "      <td>1.0</td>\n",
       "      <td>rabi</td>\n",
       "      <td>14.50</td>\n",
       "      <td>30.70</td>\n",
       "      <td>0.0</td>\n",
       "      <td>31.10</td>\n",
       "      <td>89.40</td>\n",
       "      <td>NaN</td>\n",
       "      <td>10.3</td>\n",
       "    </tr>\n",
       "    <tr>\n",
       "      <th>554187</th>\n",
       "      <td>NaN</td>\n",
       "      <td>NaN</td>\n",
       "      <td>2017</td>\n",
       "      <td>34.0</td>\n",
       "      <td>YADADHRI(BHONGIR)</td>\n",
       "      <td>1.0</td>\n",
       "      <td>rabi</td>\n",
       "      <td>15.80</td>\n",
       "      <td>31.20</td>\n",
       "      <td>0.0</td>\n",
       "      <td>25.00</td>\n",
       "      <td>61.00</td>\n",
       "      <td>NaN</td>\n",
       "      <td>5.4</td>\n",
       "    </tr>\n",
       "    <tr>\n",
       "      <th>554188</th>\n",
       "      <td>NaN</td>\n",
       "      <td>NaN</td>\n",
       "      <td>2017</td>\n",
       "      <td>34.0</td>\n",
       "      <td>YADADHRI(BHONGIR)</td>\n",
       "      <td>1.0</td>\n",
       "      <td>rabi</td>\n",
       "      <td>19.00</td>\n",
       "      <td>30.50</td>\n",
       "      <td>0.0</td>\n",
       "      <td>30.30</td>\n",
       "      <td>79.60</td>\n",
       "      <td>NaN</td>\n",
       "      <td>NaN</td>\n",
       "    </tr>\n",
       "    <tr>\n",
       "      <th>554189</th>\n",
       "      <td>NaN</td>\n",
       "      <td>NaN</td>\n",
       "      <td>2017</td>\n",
       "      <td>34.0</td>\n",
       "      <td>YADADHRI(BHONGIR)</td>\n",
       "      <td>1.0</td>\n",
       "      <td>rabi</td>\n",
       "      <td>13.40</td>\n",
       "      <td>30.00</td>\n",
       "      <td>0.0</td>\n",
       "      <td>45.00</td>\n",
       "      <td>82.70</td>\n",
       "      <td>NaN</td>\n",
       "      <td>12.2</td>\n",
       "    </tr>\n",
       "    <tr>\n",
       "      <th>554190</th>\n",
       "      <td>NaN</td>\n",
       "      <td>NaN</td>\n",
       "      <td>2017</td>\n",
       "      <td>34.0</td>\n",
       "      <td>YADADHRI(BHONGIR)</td>\n",
       "      <td>1.0</td>\n",
       "      <td>rabi</td>\n",
       "      <td>13.30</td>\n",
       "      <td>31.70</td>\n",
       "      <td>0.0</td>\n",
       "      <td>24.60</td>\n",
       "      <td>80.50</td>\n",
       "      <td>NaN</td>\n",
       "      <td>6.5</td>\n",
       "    </tr>\n",
       "  </tbody>\n",
       "</table>\n",
       "<p>554191 rows × 14 columns</p>\n",
       "</div>"
      ],
      "text/plain": [
       "        Season_id Season  Year  Dist_id           District  CropSeason_id  \\\n",
       "0             1.0     PM  2019      1.0           ADILABAD            1.0   \n",
       "1             1.0     PM  2019      1.0           ADILABAD            1.0   \n",
       "2             1.0     PM  2019      1.0           ADILABAD            1.0   \n",
       "3             1.0     PM  2019      1.0           ADILABAD            1.0   \n",
       "4             1.0     PM  2019      1.0           ADILABAD            1.0   \n",
       "...           ...    ...   ...      ...                ...            ...   \n",
       "554186        NaN    NaN  2017     34.0  YADADHRI(BHONGIR)            1.0   \n",
       "554187        NaN    NaN  2017     34.0  YADADHRI(BHONGIR)            1.0   \n",
       "554188        NaN    NaN  2017     34.0  YADADHRI(BHONGIR)            1.0   \n",
       "554189        NaN    NaN  2017     34.0  YADADHRI(BHONGIR)            1.0   \n",
       "554190        NaN    NaN  2017     34.0  YADADHRI(BHONGIR)            1.0   \n",
       "\n",
       "       crop_season  Temp_min  Temp_max  Rainfall  Humidity_min  Humidity_max  \\\n",
       "0             rabi     15.80     26.70       0.0         37.20         81.60   \n",
       "1             rabi     15.55     25.55       0.0         38.60         78.30   \n",
       "2             rabi     17.65     25.90       0.0         40.95         79.95   \n",
       "3             rabi     18.40     28.10       0.0         45.90         94.80   \n",
       "4             rabi     19.00     25.80       0.0         45.70         89.10   \n",
       "...            ...       ...       ...       ...           ...           ...   \n",
       "554186        rabi     14.50     30.70       0.0         31.10         89.40   \n",
       "554187        rabi     15.80     31.20       0.0         25.00         61.00   \n",
       "554188        rabi     19.00     30.50       0.0         30.30         79.60   \n",
       "554189        rabi     13.40     30.00       0.0         45.00         82.70   \n",
       "554190        rabi     13.30     31.70       0.0         24.60         80.50   \n",
       "\n",
       "        Wind_min  Wind_max  \n",
       "0            0.0       2.1  \n",
       "1            0.0       7.1  \n",
       "2            0.0       1.4  \n",
       "3            0.0       1.1  \n",
       "4            0.1       2.1  \n",
       "...          ...       ...  \n",
       "554186       NaN      10.3  \n",
       "554187       NaN       5.4  \n",
       "554188       NaN       NaN  \n",
       "554189       NaN      12.2  \n",
       "554190       NaN       6.5  \n",
       "\n",
       "[554191 rows x 14 columns]"
      ]
     },
     "execution_count": 4,
     "metadata": {},
     "output_type": "execute_result"
    }
   ],
   "source": [
    "temp=data[['Season_id', 'Season', 'Year','Dist_id', 'District','CropSeason_id', 'crop_season', 'Temp_min', 'Temp_max','Rainfall', 'Humidity_min', 'Humidity_max', 'Wind_min', 'Wind_max']]\n",
    "temp"
   ]
  },
  {
   "cell_type": "code",
   "execution_count": 7,
   "metadata": {},
   "outputs": [
    {
     "name": "stdout",
     "output_type": "stream",
     "text": [
      "     S.No         Crop  Dist_id       District       Year  Season  \\\n",
      "0       1    groundnut        1       ADILABAD  2016-2017  kharif   \n",
      "1       2    groundnut       11  KOMARAM BHEEM  2016-2017  kharif   \n",
      "2       4    groundnut       13     MANCHERIAL  2016-2017  kharif   \n",
      "3       5    groundnut       21         NIRMAL  2016-2017  kharif   \n",
      "4       6    groundnut       22      NIZAMABAD  2016-2017  kharif   \n",
      "..    ...          ...      ...            ...        ...     ...   \n",
      "553   555  bengal gram       30     WANAPARTHY  2018-2019    rabi   \n",
      "554   556  bengal gram       18   NAGARKURNOOL  2018-2019    rabi   \n",
      "555   557  bengal gram       19       NALGONDA  2018-2019    rabi   \n",
      "556   558  bengal gram       28       SURYAPET  2018-2019    rabi   \n",
      "557   559  bengal gram       10        KHAMMAM  2018-2019    rabi   \n",
      "\n",
      "     Season_yield  Total  \n",
      "0               0   2068  \n",
      "1               0   2068  \n",
      "2            1930   2066  \n",
      "3               0   2068  \n",
      "4            1930   2044  \n",
      "..            ...    ...  \n",
      "553          2140   2140  \n",
      "554          1569   1569  \n",
      "555          1569   1569  \n",
      "556          1569   1569  \n",
      "557          1569   1569  \n",
      "\n",
      "[558 rows x 8 columns]\n"
     ]
    }
   ],
   "source": [
    "# importing yield data\n",
    "data1=pd.read_excel('yield_data.xlsx')\n",
    "print(data1)"
   ]
  },
  {
   "cell_type": "markdown",
   "metadata": {},
   "source": [
    "# CHECKING IF THERE IS COMMON DATA BETWEEN WEATHER AND YIELD DATA"
   ]
  },
  {
   "cell_type": "markdown",
   "metadata": {},
   "source": [
    "# 1"
   ]
  },
  {
   "cell_type": "code",
   "execution_count": 8,
   "metadata": {
    "scrolled": true
   },
   "outputs": [
    {
     "name": "stdout",
     "output_type": "stream",
     "text": [
      "columns of Yield_data:\n",
      "\n",
      " Index(['S.No', 'Crop', 'Dist_id', 'District', 'Year', 'Season', 'Season_yield',\n",
      "       'Total'],\n",
      "      dtype='object')\n"
     ]
    }
   ],
   "source": [
    "print('columns of Yield_data:\\n\\n',data1.columns)"
   ]
  },
  {
   "cell_type": "code",
   "execution_count": null,
   "metadata": {},
   "outputs": [],
   "source": [
    "print('columns of Weather_data:\\n\\n',data.columns)"
   ]
  },
  {
   "cell_type": "markdown",
   "metadata": {},
   "source": [
    "Findings-1: The common data found relates to year,districts,crop seasons"
   ]
  },
  {
   "cell_type": "markdown",
   "metadata": {},
   "source": [
    "## 2"
   ]
  },
  {
   "cell_type": "code",
   "execution_count": 9,
   "metadata": {},
   "outputs": [
    {
     "name": "stdout",
     "output_type": "stream",
     "text": [
      "year data of weather data: {2017, 2018, 2019}\n"
     ]
    }
   ],
   "source": [
    "print('year data of weather data:',set(data.Year))"
   ]
  },
  {
   "cell_type": "code",
   "execution_count": 10,
   "metadata": {},
   "outputs": [
    {
     "name": "stdout",
     "output_type": "stream",
     "text": [
      "year data of yield data: {'2016-2017', '2017-2018', '2018-2019'}\n"
     ]
    }
   ],
   "source": [
    "print('year data of yield data:',set(data1.Year))"
   ]
  },
  {
   "cell_type": "markdown",
   "metadata": {},
   "source": [
    "Findings-2: We'll consider only the data that was recorded in 2017,2018 from the datasets."
   ]
  },
  {
   "cell_type": "markdown",
   "metadata": {},
   "source": [
    "## 3"
   ]
  },
  {
   "cell_type": "code",
   "execution_count": 14,
   "metadata": {},
   "outputs": [
    {
     "name": "stdout",
     "output_type": "stream",
     "text": [
      "JANGAON , JANGAON\n",
      "MEHABOOBABAD , MEHABOOBABAD\n",
      "JOGULAMBA , JOGULAMBA\n",
      "NIZAMABAD , NIZAMABAD\n",
      "RANGA REDDY , RANGA REDDY\n",
      "MEDCHAL , MEDCHAL\n",
      "VIKARABAD , VIKARABAD\n",
      "KOMARAM BHEEM ASIFABAD , KOMARAM BHEEM ASIFABAD\n",
      "WARANGAL(R) , WARANGAL(R)\n",
      "MEDAK , MEDAK\n",
      "HYDERABAD , HYDERABAD\n",
      "BHADRADRI KOTHAGUDEM , BHADRADRI KOTHAGUDEM\n",
      "MAHABOOBNAGAR , MAHABOOBNAGAR\n",
      "SURYAPET , SURYAPET\n",
      "KHAMMAM , KHAMMAM\n",
      "KARIMNAGAR , KARIMNAGAR\n",
      "NIRMAL , NIRMAL\n",
      "NAGARKURNOOL , NAGARKURNOOL\n",
      "MANCHERIAL , MANCHERIAL\n",
      "JAGTIAL , JAGTIAL\n",
      "PEDDAPALLY , PEDDAPALLY\n",
      "JAYASHANKAR BHUPALPALLY , JAYASHANKAR BHUPALPALLY\n",
      "WARANGAL(U) , WARANGAL(U)\n",
      "WANAPARTHY , WANAPARTHY\n",
      "SIDDIPET , SIDDIPET\n",
      "SANGAREDDY , SANGAREDDY\n",
      "YADADHRI(BHONGIR) , YADADHRI(BHONGIR)\n",
      "NARAYANPET , NARAYANPET\n",
      "NALGONDA , NALGONDA\n",
      "RAJANNA SIRCILLA , RAJANNA SIRCILLA\n",
      "ADILABAD , ADILABAD\n",
      "MULUGU , MULUGU\n",
      "KAMAREDDY , KAMAREDDY\n",
      "total count: 33\n"
     ]
    }
   ],
   "source": [
    "x=set(data.District)\n",
    "y=set(data1.District)\n",
    "from difflib import SequenceMatcher\n",
    "\n",
    "def similar(a, b):\n",
    "    return SequenceMatcher(None, a, b).ratio()\n",
    "c=0\n",
    "for i in x:\n",
    "    for j in x:\n",
    "        if similar(i,j)>0.91:\n",
    "            print(i,',',j)\n",
    "            c+=1\n",
    "print('total count:',c)"
   ]
  },
  {
   "cell_type": "markdown",
   "metadata": {},
   "source": [
    "# WEATHER DATA MOD"
   ]
  },
  {
   "cell_type": "markdown",
   "metadata": {},
   "source": [
    " Modifying the weather_data to make it usable with yield_data"
   ]
  },
  {
   "cell_type": "code",
   "execution_count": 13,
   "metadata": {},
   "outputs": [
    {
     "data": {
      "text/plain": [
       "{2017, 2018, 2019}"
      ]
     },
     "execution_count": 13,
     "metadata": {},
     "output_type": "execute_result"
    }
   ],
   "source": [
    "set(data.Year)"
   ]
  },
  {
   "cell_type": "code",
   "execution_count": 17,
   "metadata": {},
   "outputs": [],
   "source": [
    "d17 = data[data.Year==2017]\n",
    "d18 = data[data.Year==2018]    #Taking weather data based on years\n",
    "d19 = data[data.Year==2019]"
   ]
  },
  {
   "cell_type": "code",
   "execution_count": 18,
   "metadata": {},
   "outputs": [
    {
     "name": "stdout",
     "output_type": "stream",
     "text": [
      "(214985, 23)\n",
      "(213160, 23)\n",
      "(126046, 23)\n"
     ]
    }
   ],
   "source": [
    "print(d17.shape)\n",
    "print(d18.shape)           #checking the shape of data\n",
    "print(d19.shape)"
   ]
  },
  {
   "cell_type": "code",
   "execution_count": 19,
   "metadata": {},
   "outputs": [
    {
     "name": "stdout",
     "output_type": "stream",
     "text": [
      "{nan, 'kharif', 'rabi'}\n",
      "{nan, 'kharif', 'rabi'}\n",
      "{nan, 'kharif', 'rabi'}\n"
     ]
    }
   ],
   "source": [
    "print(set(d17.crop_season))\n",
    "print(set(d18.crop_season))      #printing unique crop seasons\n",
    "print(set(d19.crop_season))"
   ]
  },
  {
   "cell_type": "code",
   "execution_count": 20,
   "metadata": {},
   "outputs": [
    {
     "data": {
      "text/plain": [
       "{'ADILABAD',\n",
       " 'BHADRADRI KOTHAGUDEM',\n",
       " 'HYDERABAD',\n",
       " 'JAGTIAL',\n",
       " 'JANGAON',\n",
       " 'JAYASHANKAR BHUPALPALLY',\n",
       " 'JOGULAMBA',\n",
       " 'KAMAREDDY',\n",
       " 'KARIMNAGAR',\n",
       " 'KHAMMAM',\n",
       " 'KOMARAM BHEEM ASIFABAD',\n",
       " 'MAHABOOBNAGAR',\n",
       " 'MANCHERIAL',\n",
       " 'MEDAK',\n",
       " 'MEDCHAL',\n",
       " 'MEHABOOBABAD',\n",
       " 'MULUGU',\n",
       " 'NAGARKURNOOL',\n",
       " 'NALGONDA',\n",
       " 'NARAYANPET',\n",
       " 'NIRMAL',\n",
       " 'NIZAMABAD',\n",
       " 'PEDDAPALLY',\n",
       " 'RAJANNA SIRCILLA',\n",
       " 'RANGA REDDY',\n",
       " 'SANGAREDDY',\n",
       " 'SIDDIPET',\n",
       " 'SURYAPET',\n",
       " 'VIKARABAD',\n",
       " 'WANAPARTHY',\n",
       " 'WARANGAL(R)',\n",
       " 'WARANGAL(U)',\n",
       " 'YADADHRI(BHONGIR)'}"
      ]
     },
     "execution_count": 20,
     "metadata": {},
     "output_type": "execute_result"
    }
   ],
   "source": [
    "districts=set(temp.District)     #making a set:{districts} contains all district names\n",
    "districts"
   ]
  },
  {
   "cell_type": "code",
   "execution_count": 21,
   "metadata": {},
   "outputs": [],
   "source": [
    "#function to calculate average of data passed\n",
    "#calculating average rainfall,temparatures,humidity for the passed data\n",
    "# return dataset containing average rainfall,temparatures,humidity for the passed data\n",
    "\n",
    "def sub_data_avg_by_year(data):\n",
    "    new_df={\n",
    "    'District':[],\n",
    "    'Rainfall':[],\n",
    "    'crop_season':[]\n",
    "    }\n",
    "    temp1=data\n",
    "    for i in districts:\n",
    "        for j in ['rabi','kharif']:\n",
    "            new_df['District'].append(i)\n",
    "            new_df['Rainfall'].append(temp1[(temp1.crop_season==j) & (temp1.District==i)].Rainfall.dropna().mean())\n",
    "            new_df['crop_season'].append(j)\n",
    "\n",
    "    new_df=pd.DataFrame(new_df)\n",
    "    print(\"dataset created !!!!!\")\n",
    "    print(\"null values report:\")\n",
    "    print(new_df.isnull().sum())\n",
    "    return new_df"
   ]
  },
  {
   "cell_type": "code",
   "execution_count": 22,
   "metadata": {},
   "outputs": [
    {
     "name": "stdout",
     "output_type": "stream",
     "text": [
      "dataset created !!!!!\n",
      "null values report:\n",
      "District       0\n",
      "Rainfall       0\n",
      "crop_season    0\n",
      "dtype: int64\n"
     ]
    }
   ],
   "source": [
    "#2017 avg\n",
    "#calculating average rainfall,temparatures,humidity for the year 2017\n",
    "#new_df: dataset with average rainfall for all districts and crop seasons during 2017\n",
    "\n",
    "new_df=sub_data_avg_by_year(d17)"
   ]
  },
  {
   "cell_type": "code",
   "execution_count": 23,
   "metadata": {},
   "outputs": [
    {
     "name": "stdout",
     "output_type": "stream",
     "text": [
      "dataset created !!!!!\n",
      "null values report:\n",
      "District       0\n",
      "Rainfall       4\n",
      "crop_season    0\n",
      "dtype: int64\n"
     ]
    }
   ],
   "source": [
    "#2018 avg\n",
    "#calculating average rainfall,temparatures,humidity for the year 2018\n",
    "#new_df: dataset with average rainfall for all districts and crop seasons during 2018\n",
    "\n",
    "new_df1=sub_data_avg_by_year(d18)"
   ]
  },
  {
   "cell_type": "code",
   "execution_count": 25,
   "metadata": {},
   "outputs": [
    {
     "name": "stdout",
     "output_type": "stream",
     "text": [
      "dataset created !!!!!\n",
      "null values report:\n",
      "District       0\n",
      "Rainfall       0\n",
      "crop_season    0\n",
      "dtype: int64\n"
     ]
    }
   ],
   "source": [
    "#2019 avg\n",
    "#calculating average rainfall,temparatures,humidity for the year 2019\n",
    "#new_df: dataset with average rainfall for all districts and crop seasons during 2019\n",
    "new_df2=sub_data_avg_by_year(d19)"
   ]
  },
  {
   "cell_type": "code",
   "execution_count": 18,
   "metadata": {},
   "outputs": [
    {
     "name": "stdout",
     "output_type": "stream",
     "text": [
      "{'District': [], 'Rainfall': [], 'crop_season': []}\n"
     ]
    }
   ],
   "source": [
    "#2017 avg\n",
    "#calculating average rainfall for the year 2017\n",
    "#new_df: dataset with average rainfall for all districts and crop seasons during 2017\n",
    "\n",
    "new_df={\n",
    "    'District':[],\n",
    "    'Rainfall':[],\n",
    "    'crop_season':[]\n",
    "}\n",
    "temp1=d17\n",
    "print(new_df)\n",
    "for i in districts:\n",
    "    for j in ['rabi','kharif']:\n",
    "        new_df['District'].append(i)\n",
    "        new_df['Rainfall'].append(temp1[(temp1.crop_season==j) & (temp1.District==i)].Rainfall.mean())\n",
    "        new_df['crop_season'].append(j)\n",
    "new_df=pd.DataFrame(new_df)"
   ]
  },
  {
   "cell_type": "code",
   "execution_count": 19,
   "metadata": {},
   "outputs": [],
   "source": [
    "#2018 avg\n",
    "#calculating average rainfall for the year 2018\n",
    "#new_df1: dataset with average rainfall for all districts and crop seasons during 2018\n",
    "\n",
    "new_df1={\n",
    "    'District':[],\n",
    "    'Rainfall':[],\n",
    "    'crop_season':[]\n",
    "}\n",
    "temp1=d18\n",
    "\n",
    "for i in districts:\n",
    "    for j in ['rabi','kharif']:\n",
    "        new_df1['District'].append(i)\n",
    "        new_df1['Rainfall'].append(temp1[(temp1.crop_season==j) & (temp1.District==i)].Rainfall.mean())\n",
    "        new_df1['crop_season'].append(j)\n",
    "new_df1=pd.DataFrame(new_df1)"
   ]
  },
  {
   "cell_type": "code",
   "execution_count": 20,
   "metadata": {},
   "outputs": [],
   "source": [
    "#2019 avg\n",
    "#calculating average rainfall for the year 2019\n",
    "#new_df2: dataset with average rainfall for all districts and crop seasons during 2019\n",
    "\n",
    "new_df2={\n",
    "    'District':[],\n",
    "    'Rainfall':[],\n",
    "    'crop_season':[]\n",
    "}\n",
    "temp1=d19\n",
    "\n",
    "for i in districts:\n",
    "    for j in ['rabi','kharif']:\n",
    "        new_df2['District'].append(i)\n",
    "        new_df2['Rainfall'].append(temp1[(temp1.crop_season==j) & (temp1.District==i)].Rainfall.mean())\n",
    "        new_df2['crop_season'].append(j)\n",
    "new_df2=pd.DataFrame(new_df2)"
   ]
  },
  {
   "cell_type": "code",
   "execution_count": 21,
   "metadata": {},
   "outputs": [
    {
     "data": {
      "text/html": [
       "<div>\n",
       "<style scoped>\n",
       "    .dataframe tbody tr th:only-of-type {\n",
       "        vertical-align: middle;\n",
       "    }\n",
       "\n",
       "    .dataframe tbody tr th {\n",
       "        vertical-align: top;\n",
       "    }\n",
       "\n",
       "    .dataframe thead th {\n",
       "        text-align: right;\n",
       "    }\n",
       "</style>\n",
       "<table border=\"1\" class=\"dataframe\">\n",
       "  <thead>\n",
       "    <tr style=\"text-align: right;\">\n",
       "      <th></th>\n",
       "      <th>District</th>\n",
       "      <th>Rainfall</th>\n",
       "      <th>crop_season</th>\n",
       "    </tr>\n",
       "  </thead>\n",
       "  <tbody>\n",
       "    <tr>\n",
       "      <th>0</th>\n",
       "      <td>WARANGAL(R)</td>\n",
       "      <td>0.008816</td>\n",
       "      <td>rabi</td>\n",
       "    </tr>\n",
       "    <tr>\n",
       "      <th>1</th>\n",
       "      <td>WARANGAL(R)</td>\n",
       "      <td>5.400661</td>\n",
       "      <td>kharif</td>\n",
       "    </tr>\n",
       "    <tr>\n",
       "      <th>2</th>\n",
       "      <td>NIRMAL</td>\n",
       "      <td>0.036319</td>\n",
       "      <td>rabi</td>\n",
       "    </tr>\n",
       "    <tr>\n",
       "      <th>3</th>\n",
       "      <td>NIRMAL</td>\n",
       "      <td>4.560120</td>\n",
       "      <td>kharif</td>\n",
       "    </tr>\n",
       "    <tr>\n",
       "      <th>4</th>\n",
       "      <td>NIZAMABAD</td>\n",
       "      <td>0.015597</td>\n",
       "      <td>rabi</td>\n",
       "    </tr>\n",
       "    <tr>\n",
       "      <th>...</th>\n",
       "      <td>...</td>\n",
       "      <td>...</td>\n",
       "      <td>...</td>\n",
       "    </tr>\n",
       "    <tr>\n",
       "      <th>61</th>\n",
       "      <td>NALGONDA</td>\n",
       "      <td>3.884684</td>\n",
       "      <td>kharif</td>\n",
       "    </tr>\n",
       "    <tr>\n",
       "      <th>62</th>\n",
       "      <td>MEDAK</td>\n",
       "      <td>0.060033</td>\n",
       "      <td>rabi</td>\n",
       "    </tr>\n",
       "    <tr>\n",
       "      <th>63</th>\n",
       "      <td>MEDAK</td>\n",
       "      <td>4.895528</td>\n",
       "      <td>kharif</td>\n",
       "    </tr>\n",
       "    <tr>\n",
       "      <th>64</th>\n",
       "      <td>KHAMMAM</td>\n",
       "      <td>0.007821</td>\n",
       "      <td>rabi</td>\n",
       "    </tr>\n",
       "    <tr>\n",
       "      <th>65</th>\n",
       "      <td>KHAMMAM</td>\n",
       "      <td>4.092567</td>\n",
       "      <td>kharif</td>\n",
       "    </tr>\n",
       "  </tbody>\n",
       "</table>\n",
       "<p>66 rows × 3 columns</p>\n",
       "</div>"
      ],
      "text/plain": [
       "       District  Rainfall crop_season\n",
       "0   WARANGAL(R)  0.008816        rabi\n",
       "1   WARANGAL(R)  5.400661      kharif\n",
       "2        NIRMAL  0.036319        rabi\n",
       "3        NIRMAL  4.560120      kharif\n",
       "4     NIZAMABAD  0.015597        rabi\n",
       "..          ...       ...         ...\n",
       "61     NALGONDA  3.884684      kharif\n",
       "62        MEDAK  0.060033        rabi\n",
       "63        MEDAK  4.895528      kharif\n",
       "64      KHAMMAM  0.007821        rabi\n",
       "65      KHAMMAM  4.092567      kharif\n",
       "\n",
       "[66 rows x 3 columns]"
      ]
     },
     "execution_count": 21,
     "metadata": {},
     "output_type": "execute_result"
    }
   ],
   "source": [
    "new_df   #2017 rainfall data"
   ]
  },
  {
   "cell_type": "code",
   "execution_count": 22,
   "metadata": {},
   "outputs": [
    {
     "data": {
      "text/html": [
       "<div>\n",
       "<style scoped>\n",
       "    .dataframe tbody tr th:only-of-type {\n",
       "        vertical-align: middle;\n",
       "    }\n",
       "\n",
       "    .dataframe tbody tr th {\n",
       "        vertical-align: top;\n",
       "    }\n",
       "\n",
       "    .dataframe thead th {\n",
       "        text-align: right;\n",
       "    }\n",
       "</style>\n",
       "<table border=\"1\" class=\"dataframe\">\n",
       "  <thead>\n",
       "    <tr style=\"text-align: right;\">\n",
       "      <th></th>\n",
       "      <th>District</th>\n",
       "      <th>Rainfall</th>\n",
       "      <th>crop_season</th>\n",
       "    </tr>\n",
       "  </thead>\n",
       "  <tbody>\n",
       "    <tr>\n",
       "      <th>0</th>\n",
       "      <td>WARANGAL(R)</td>\n",
       "      <td>0.207152</td>\n",
       "      <td>rabi</td>\n",
       "    </tr>\n",
       "    <tr>\n",
       "      <th>1</th>\n",
       "      <td>WARANGAL(R)</td>\n",
       "      <td>4.440434</td>\n",
       "      <td>kharif</td>\n",
       "    </tr>\n",
       "    <tr>\n",
       "      <th>2</th>\n",
       "      <td>NIRMAL</td>\n",
       "      <td>0.354165</td>\n",
       "      <td>rabi</td>\n",
       "    </tr>\n",
       "    <tr>\n",
       "      <th>3</th>\n",
       "      <td>NIRMAL</td>\n",
       "      <td>5.405819</td>\n",
       "      <td>kharif</td>\n",
       "    </tr>\n",
       "    <tr>\n",
       "      <th>4</th>\n",
       "      <td>NIZAMABAD</td>\n",
       "      <td>0.174761</td>\n",
       "      <td>rabi</td>\n",
       "    </tr>\n",
       "    <tr>\n",
       "      <th>...</th>\n",
       "      <td>...</td>\n",
       "      <td>...</td>\n",
       "      <td>...</td>\n",
       "    </tr>\n",
       "    <tr>\n",
       "      <th>61</th>\n",
       "      <td>NALGONDA</td>\n",
       "      <td>2.197220</td>\n",
       "      <td>kharif</td>\n",
       "    </tr>\n",
       "    <tr>\n",
       "      <th>62</th>\n",
       "      <td>MEDAK</td>\n",
       "      <td>0.072086</td>\n",
       "      <td>rabi</td>\n",
       "    </tr>\n",
       "    <tr>\n",
       "      <th>63</th>\n",
       "      <td>MEDAK</td>\n",
       "      <td>2.977033</td>\n",
       "      <td>kharif</td>\n",
       "    </tr>\n",
       "    <tr>\n",
       "      <th>64</th>\n",
       "      <td>KHAMMAM</td>\n",
       "      <td>0.511447</td>\n",
       "      <td>rabi</td>\n",
       "    </tr>\n",
       "    <tr>\n",
       "      <th>65</th>\n",
       "      <td>KHAMMAM</td>\n",
       "      <td>5.608053</td>\n",
       "      <td>kharif</td>\n",
       "    </tr>\n",
       "  </tbody>\n",
       "</table>\n",
       "<p>66 rows × 3 columns</p>\n",
       "</div>"
      ],
      "text/plain": [
       "       District  Rainfall crop_season\n",
       "0   WARANGAL(R)  0.207152        rabi\n",
       "1   WARANGAL(R)  4.440434      kharif\n",
       "2        NIRMAL  0.354165        rabi\n",
       "3        NIRMAL  5.405819      kharif\n",
       "4     NIZAMABAD  0.174761        rabi\n",
       "..          ...       ...         ...\n",
       "61     NALGONDA  2.197220      kharif\n",
       "62        MEDAK  0.072086        rabi\n",
       "63        MEDAK  2.977033      kharif\n",
       "64      KHAMMAM  0.511447        rabi\n",
       "65      KHAMMAM  5.608053      kharif\n",
       "\n",
       "[66 rows x 3 columns]"
      ]
     },
     "execution_count": 22,
     "metadata": {},
     "output_type": "execute_result"
    }
   ],
   "source": [
    "new_df1   #2018 rainfall data"
   ]
  },
  {
   "cell_type": "code",
   "execution_count": 23,
   "metadata": {},
   "outputs": [
    {
     "data": {
      "text/html": [
       "<div>\n",
       "<style scoped>\n",
       "    .dataframe tbody tr th:only-of-type {\n",
       "        vertical-align: middle;\n",
       "    }\n",
       "\n",
       "    .dataframe tbody tr th {\n",
       "        vertical-align: top;\n",
       "    }\n",
       "\n",
       "    .dataframe thead th {\n",
       "        text-align: right;\n",
       "    }\n",
       "</style>\n",
       "<table border=\"1\" class=\"dataframe\">\n",
       "  <thead>\n",
       "    <tr style=\"text-align: right;\">\n",
       "      <th></th>\n",
       "      <th>District</th>\n",
       "      <th>Rainfall</th>\n",
       "      <th>crop_season</th>\n",
       "    </tr>\n",
       "  </thead>\n",
       "  <tbody>\n",
       "    <tr>\n",
       "      <th>0</th>\n",
       "      <td>WARANGAL(R)</td>\n",
       "      <td>0.384734</td>\n",
       "      <td>rabi</td>\n",
       "    </tr>\n",
       "    <tr>\n",
       "      <th>1</th>\n",
       "      <td>WARANGAL(R)</td>\n",
       "      <td>8.364990</td>\n",
       "      <td>kharif</td>\n",
       "    </tr>\n",
       "    <tr>\n",
       "      <th>2</th>\n",
       "      <td>NIRMAL</td>\n",
       "      <td>0.070923</td>\n",
       "      <td>rabi</td>\n",
       "    </tr>\n",
       "    <tr>\n",
       "      <th>3</th>\n",
       "      <td>NIRMAL</td>\n",
       "      <td>7.124647</td>\n",
       "      <td>kharif</td>\n",
       "    </tr>\n",
       "    <tr>\n",
       "      <th>4</th>\n",
       "      <td>NIZAMABAD</td>\n",
       "      <td>0.253024</td>\n",
       "      <td>rabi</td>\n",
       "    </tr>\n",
       "    <tr>\n",
       "      <th>...</th>\n",
       "      <td>...</td>\n",
       "      <td>...</td>\n",
       "      <td>...</td>\n",
       "    </tr>\n",
       "    <tr>\n",
       "      <th>61</th>\n",
       "      <td>NALGONDA</td>\n",
       "      <td>4.427826</td>\n",
       "      <td>kharif</td>\n",
       "    </tr>\n",
       "    <tr>\n",
       "      <th>62</th>\n",
       "      <td>MEDAK</td>\n",
       "      <td>0.067623</td>\n",
       "      <td>rabi</td>\n",
       "    </tr>\n",
       "    <tr>\n",
       "      <th>63</th>\n",
       "      <td>MEDAK</td>\n",
       "      <td>6.653821</td>\n",
       "      <td>kharif</td>\n",
       "    </tr>\n",
       "    <tr>\n",
       "      <th>64</th>\n",
       "      <td>KHAMMAM</td>\n",
       "      <td>0.220375</td>\n",
       "      <td>rabi</td>\n",
       "    </tr>\n",
       "    <tr>\n",
       "      <th>65</th>\n",
       "      <td>KHAMMAM</td>\n",
       "      <td>6.485095</td>\n",
       "      <td>kharif</td>\n",
       "    </tr>\n",
       "  </tbody>\n",
       "</table>\n",
       "<p>66 rows × 3 columns</p>\n",
       "</div>"
      ],
      "text/plain": [
       "       District  Rainfall crop_season\n",
       "0   WARANGAL(R)  0.384734        rabi\n",
       "1   WARANGAL(R)  8.364990      kharif\n",
       "2        NIRMAL  0.070923        rabi\n",
       "3        NIRMAL  7.124647      kharif\n",
       "4     NIZAMABAD  0.253024        rabi\n",
       "..          ...       ...         ...\n",
       "61     NALGONDA  4.427826      kharif\n",
       "62        MEDAK  0.067623        rabi\n",
       "63        MEDAK  6.653821      kharif\n",
       "64      KHAMMAM  0.220375        rabi\n",
       "65      KHAMMAM  6.485095      kharif\n",
       "\n",
       "[66 rows x 3 columns]"
      ]
     },
     "execution_count": 23,
     "metadata": {},
     "output_type": "execute_result"
    }
   ],
   "source": [
    "new_df2   #2019 rainfall data"
   ]
  },
  {
   "cell_type": "code",
   "execution_count": 26,
   "metadata": {},
   "outputs": [
    {
     "data": {
      "text/html": [
       "<div>\n",
       "<style scoped>\n",
       "    .dataframe tbody tr th:only-of-type {\n",
       "        vertical-align: middle;\n",
       "    }\n",
       "\n",
       "    .dataframe tbody tr th {\n",
       "        vertical-align: top;\n",
       "    }\n",
       "\n",
       "    .dataframe thead th {\n",
       "        text-align: right;\n",
       "    }\n",
       "</style>\n",
       "<table border=\"1\" class=\"dataframe\">\n",
       "  <thead>\n",
       "    <tr style=\"text-align: right;\">\n",
       "      <th></th>\n",
       "      <th>S.No</th>\n",
       "      <th>Crop</th>\n",
       "      <th>Dist_id</th>\n",
       "      <th>District</th>\n",
       "      <th>Year</th>\n",
       "      <th>Season</th>\n",
       "      <th>Season_yield</th>\n",
       "      <th>Total</th>\n",
       "    </tr>\n",
       "  </thead>\n",
       "  <tbody>\n",
       "    <tr>\n",
       "      <th>186</th>\n",
       "      <td>188</td>\n",
       "      <td>groundnut</td>\n",
       "      <td>1</td>\n",
       "      <td>ADILABAD</td>\n",
       "      <td>2017-2018</td>\n",
       "      <td>kharif</td>\n",
       "      <td>0</td>\n",
       "      <td>2236</td>\n",
       "    </tr>\n",
       "    <tr>\n",
       "      <th>187</th>\n",
       "      <td>189</td>\n",
       "      <td>groundnut</td>\n",
       "      <td>11</td>\n",
       "      <td>KOMARAM BHEEM</td>\n",
       "      <td>2017-2018</td>\n",
       "      <td>kharif</td>\n",
       "      <td>0</td>\n",
       "      <td>0</td>\n",
       "    </tr>\n",
       "    <tr>\n",
       "      <th>188</th>\n",
       "      <td>190</td>\n",
       "      <td>groundnut</td>\n",
       "      <td>13</td>\n",
       "      <td>MANCHERIAL</td>\n",
       "      <td>2017-2018</td>\n",
       "      <td>kharif</td>\n",
       "      <td>2188</td>\n",
       "      <td>2237</td>\n",
       "    </tr>\n",
       "    <tr>\n",
       "      <th>189</th>\n",
       "      <td>191</td>\n",
       "      <td>groundnut</td>\n",
       "      <td>21</td>\n",
       "      <td>NIRMAL</td>\n",
       "      <td>2017-2018</td>\n",
       "      <td>kharif</td>\n",
       "      <td>0</td>\n",
       "      <td>2236</td>\n",
       "    </tr>\n",
       "    <tr>\n",
       "      <th>190</th>\n",
       "      <td>192</td>\n",
       "      <td>groundnut</td>\n",
       "      <td>22</td>\n",
       "      <td>NIZAMABAD</td>\n",
       "      <td>2017-2018</td>\n",
       "      <td>kharif</td>\n",
       "      <td>2188</td>\n",
       "      <td>2226</td>\n",
       "    </tr>\n",
       "    <tr>\n",
       "      <th>...</th>\n",
       "      <td>...</td>\n",
       "      <td>...</td>\n",
       "      <td>...</td>\n",
       "      <td>...</td>\n",
       "      <td>...</td>\n",
       "      <td>...</td>\n",
       "      <td>...</td>\n",
       "      <td>...</td>\n",
       "    </tr>\n",
       "    <tr>\n",
       "      <th>553</th>\n",
       "      <td>555</td>\n",
       "      <td>bengal gram</td>\n",
       "      <td>30</td>\n",
       "      <td>WANAPARTHY</td>\n",
       "      <td>2018-2019</td>\n",
       "      <td>rabi</td>\n",
       "      <td>2140</td>\n",
       "      <td>2140</td>\n",
       "    </tr>\n",
       "    <tr>\n",
       "      <th>554</th>\n",
       "      <td>556</td>\n",
       "      <td>bengal gram</td>\n",
       "      <td>18</td>\n",
       "      <td>NAGARKURNOOL</td>\n",
       "      <td>2018-2019</td>\n",
       "      <td>rabi</td>\n",
       "      <td>1569</td>\n",
       "      <td>1569</td>\n",
       "    </tr>\n",
       "    <tr>\n",
       "      <th>555</th>\n",
       "      <td>557</td>\n",
       "      <td>bengal gram</td>\n",
       "      <td>19</td>\n",
       "      <td>NALGONDA</td>\n",
       "      <td>2018-2019</td>\n",
       "      <td>rabi</td>\n",
       "      <td>1569</td>\n",
       "      <td>1569</td>\n",
       "    </tr>\n",
       "    <tr>\n",
       "      <th>556</th>\n",
       "      <td>558</td>\n",
       "      <td>bengal gram</td>\n",
       "      <td>28</td>\n",
       "      <td>SURYAPET</td>\n",
       "      <td>2018-2019</td>\n",
       "      <td>rabi</td>\n",
       "      <td>1569</td>\n",
       "      <td>1569</td>\n",
       "    </tr>\n",
       "    <tr>\n",
       "      <th>557</th>\n",
       "      <td>559</td>\n",
       "      <td>bengal gram</td>\n",
       "      <td>10</td>\n",
       "      <td>KHAMMAM</td>\n",
       "      <td>2018-2019</td>\n",
       "      <td>rabi</td>\n",
       "      <td>1569</td>\n",
       "      <td>1569</td>\n",
       "    </tr>\n",
       "  </tbody>\n",
       "</table>\n",
       "<p>372 rows × 8 columns</p>\n",
       "</div>"
      ],
      "text/plain": [
       "     S.No         Crop  Dist_id       District       Year  Season  \\\n",
       "186   188    groundnut        1       ADILABAD  2017-2018  kharif   \n",
       "187   189    groundnut       11  KOMARAM BHEEM  2017-2018  kharif   \n",
       "188   190    groundnut       13     MANCHERIAL  2017-2018  kharif   \n",
       "189   191    groundnut       21         NIRMAL  2017-2018  kharif   \n",
       "190   192    groundnut       22      NIZAMABAD  2017-2018  kharif   \n",
       "..    ...          ...      ...            ...        ...     ...   \n",
       "553   555  bengal gram       30     WANAPARTHY  2018-2019    rabi   \n",
       "554   556  bengal gram       18   NAGARKURNOOL  2018-2019    rabi   \n",
       "555   557  bengal gram       19       NALGONDA  2018-2019    rabi   \n",
       "556   558  bengal gram       28       SURYAPET  2018-2019    rabi   \n",
       "557   559  bengal gram       10        KHAMMAM  2018-2019    rabi   \n",
       "\n",
       "     Season_yield  Total  \n",
       "186             0   2236  \n",
       "187             0      0  \n",
       "188          2188   2237  \n",
       "189             0   2236  \n",
       "190          2188   2226  \n",
       "..            ...    ...  \n",
       "553          2140   2140  \n",
       "554          1569   1569  \n",
       "555          1569   1569  \n",
       "556          1569   1569  \n",
       "557          1569   1569  \n",
       "\n",
       "[372 rows x 8 columns]"
      ]
     },
     "execution_count": 26,
     "metadata": {},
     "output_type": "execute_result"
    }
   ],
   "source": [
    "data2=data1[(data1.Year=='2017-2018') | (data1.Year=='2018-2019')]           #data2 : yield data from 2017-2019\n",
    "data2"
   ]
  },
  {
   "cell_type": "markdown",
   "metadata": {},
   "source": [
    "MERGING RAINFALL DATA WITH YIELD DATA"
   ]
  },
  {
   "cell_type": "code",
   "execution_count": 27,
   "metadata": {
    "scrolled": false
   },
   "outputs": [
    {
     "name": "stderr",
     "output_type": "stream",
     "text": [
      "<ipython-input-27-b617388f073b>:16: SettingWithCopyWarning: \n",
      "A value is trying to be set on a copy of a slice from a DataFrame.\n",
      "Try using .loc[row_indexer,col_indexer] = value instead\n",
      "\n",
      "See the caveats in the documentation: https://pandas.pydata.org/pandas-docs/stable/user_guide/indexing.html#returning-a-view-versus-a-copy\n",
      "  data2['Rainfall']=l\n"
     ]
    },
    {
     "data": {
      "text/html": [
       "<div>\n",
       "<style scoped>\n",
       "    .dataframe tbody tr th:only-of-type {\n",
       "        vertical-align: middle;\n",
       "    }\n",
       "\n",
       "    .dataframe tbody tr th {\n",
       "        vertical-align: top;\n",
       "    }\n",
       "\n",
       "    .dataframe thead th {\n",
       "        text-align: right;\n",
       "    }\n",
       "</style>\n",
       "<table border=\"1\" class=\"dataframe\">\n",
       "  <thead>\n",
       "    <tr style=\"text-align: right;\">\n",
       "      <th></th>\n",
       "      <th>S.No</th>\n",
       "      <th>Crop</th>\n",
       "      <th>Dist_id</th>\n",
       "      <th>District</th>\n",
       "      <th>Year</th>\n",
       "      <th>Season</th>\n",
       "      <th>Season_yield</th>\n",
       "      <th>Total</th>\n",
       "      <th>Rainfall</th>\n",
       "    </tr>\n",
       "  </thead>\n",
       "  <tbody>\n",
       "    <tr>\n",
       "      <th>186</th>\n",
       "      <td>188</td>\n",
       "      <td>groundnut</td>\n",
       "      <td>1</td>\n",
       "      <td>ADILABAD</td>\n",
       "      <td>2017-2018</td>\n",
       "      <td>kharif</td>\n",
       "      <td>0</td>\n",
       "      <td>2236</td>\n",
       "      <td>4.855736</td>\n",
       "    </tr>\n",
       "    <tr>\n",
       "      <th>187</th>\n",
       "      <td>189</td>\n",
       "      <td>groundnut</td>\n",
       "      <td>11</td>\n",
       "      <td>KOMARAM BHEEM</td>\n",
       "      <td>2017-2018</td>\n",
       "      <td>kharif</td>\n",
       "      <td>0</td>\n",
       "      <td>0</td>\n",
       "      <td>2.157985</td>\n",
       "    </tr>\n",
       "    <tr>\n",
       "      <th>188</th>\n",
       "      <td>190</td>\n",
       "      <td>groundnut</td>\n",
       "      <td>13</td>\n",
       "      <td>MANCHERIAL</td>\n",
       "      <td>2017-2018</td>\n",
       "      <td>kharif</td>\n",
       "      <td>2188</td>\n",
       "      <td>2237</td>\n",
       "      <td>4.958356</td>\n",
       "    </tr>\n",
       "    <tr>\n",
       "      <th>189</th>\n",
       "      <td>191</td>\n",
       "      <td>groundnut</td>\n",
       "      <td>21</td>\n",
       "      <td>NIRMAL</td>\n",
       "      <td>2017-2018</td>\n",
       "      <td>kharif</td>\n",
       "      <td>0</td>\n",
       "      <td>2236</td>\n",
       "      <td>4.560120</td>\n",
       "    </tr>\n",
       "    <tr>\n",
       "      <th>190</th>\n",
       "      <td>192</td>\n",
       "      <td>groundnut</td>\n",
       "      <td>22</td>\n",
       "      <td>NIZAMABAD</td>\n",
       "      <td>2017-2018</td>\n",
       "      <td>kharif</td>\n",
       "      <td>2188</td>\n",
       "      <td>2226</td>\n",
       "      <td>4.894814</td>\n",
       "    </tr>\n",
       "    <tr>\n",
       "      <th>...</th>\n",
       "      <td>...</td>\n",
       "      <td>...</td>\n",
       "      <td>...</td>\n",
       "      <td>...</td>\n",
       "      <td>...</td>\n",
       "      <td>...</td>\n",
       "      <td>...</td>\n",
       "      <td>...</td>\n",
       "      <td>...</td>\n",
       "    </tr>\n",
       "    <tr>\n",
       "      <th>553</th>\n",
       "      <td>555</td>\n",
       "      <td>bengal gram</td>\n",
       "      <td>30</td>\n",
       "      <td>WANAPARTHY</td>\n",
       "      <td>2018-2019</td>\n",
       "      <td>rabi</td>\n",
       "      <td>2140</td>\n",
       "      <td>2140</td>\n",
       "      <td>0.024882</td>\n",
       "    </tr>\n",
       "    <tr>\n",
       "      <th>554</th>\n",
       "      <td>556</td>\n",
       "      <td>bengal gram</td>\n",
       "      <td>18</td>\n",
       "      <td>NAGARKURNOOL</td>\n",
       "      <td>2018-2019</td>\n",
       "      <td>rabi</td>\n",
       "      <td>1569</td>\n",
       "      <td>1569</td>\n",
       "      <td>0.079404</td>\n",
       "    </tr>\n",
       "    <tr>\n",
       "      <th>555</th>\n",
       "      <td>557</td>\n",
       "      <td>bengal gram</td>\n",
       "      <td>19</td>\n",
       "      <td>NALGONDA</td>\n",
       "      <td>2018-2019</td>\n",
       "      <td>rabi</td>\n",
       "      <td>1569</td>\n",
       "      <td>1569</td>\n",
       "      <td>0.095920</td>\n",
       "    </tr>\n",
       "    <tr>\n",
       "      <th>556</th>\n",
       "      <td>558</td>\n",
       "      <td>bengal gram</td>\n",
       "      <td>28</td>\n",
       "      <td>SURYAPET</td>\n",
       "      <td>2018-2019</td>\n",
       "      <td>rabi</td>\n",
       "      <td>1569</td>\n",
       "      <td>1569</td>\n",
       "      <td>0.162741</td>\n",
       "    </tr>\n",
       "    <tr>\n",
       "      <th>557</th>\n",
       "      <td>559</td>\n",
       "      <td>bengal gram</td>\n",
       "      <td>10</td>\n",
       "      <td>KHAMMAM</td>\n",
       "      <td>2018-2019</td>\n",
       "      <td>rabi</td>\n",
       "      <td>1569</td>\n",
       "      <td>1569</td>\n",
       "      <td>0.511447</td>\n",
       "    </tr>\n",
       "  </tbody>\n",
       "</table>\n",
       "<p>372 rows × 9 columns</p>\n",
       "</div>"
      ],
      "text/plain": [
       "     S.No         Crop  Dist_id       District       Year  Season  \\\n",
       "186   188    groundnut        1       ADILABAD  2017-2018  kharif   \n",
       "187   189    groundnut       11  KOMARAM BHEEM  2017-2018  kharif   \n",
       "188   190    groundnut       13     MANCHERIAL  2017-2018  kharif   \n",
       "189   191    groundnut       21         NIRMAL  2017-2018  kharif   \n",
       "190   192    groundnut       22      NIZAMABAD  2017-2018  kharif   \n",
       "..    ...          ...      ...            ...        ...     ...   \n",
       "553   555  bengal gram       30     WANAPARTHY  2018-2019    rabi   \n",
       "554   556  bengal gram       18   NAGARKURNOOL  2018-2019    rabi   \n",
       "555   557  bengal gram       19       NALGONDA  2018-2019    rabi   \n",
       "556   558  bengal gram       28       SURYAPET  2018-2019    rabi   \n",
       "557   559  bengal gram       10        KHAMMAM  2018-2019    rabi   \n",
       "\n",
       "     Season_yield  Total  Rainfall  \n",
       "186             0   2236  4.855736  \n",
       "187             0      0  2.157985  \n",
       "188          2188   2237  4.958356  \n",
       "189             0   2236  4.560120  \n",
       "190          2188   2226  4.894814  \n",
       "..            ...    ...       ...  \n",
       "553          2140   2140  0.024882  \n",
       "554          1569   1569  0.079404  \n",
       "555          1569   1569  0.095920  \n",
       "556          1569   1569  0.162741  \n",
       "557          1569   1569  0.511447  \n",
       "\n",
       "[372 rows x 9 columns]"
      ]
     },
     "execution_count": 27,
     "metadata": {},
     "output_type": "execute_result"
    }
   ],
   "source": [
    "l=[]\n",
    "for i in range (len(data2)):\n",
    "    year=data2.iloc[i,4]\n",
    "    dist=data2.iloc[i,3]\n",
    "    season=data2.iloc[i,5]\n",
    "    if year=='2017-2018':\n",
    "        l.append(new_df[(new_df.District==dist)&(new_df.crop_season==season)]['Rainfall']) \n",
    "    else:\n",
    "        l.append(new_df1[(new_df1.District==dist)&(new_df1.crop_season==season)]['Rainfall'])\n",
    "for i in range(len(l)):\n",
    "    try:\n",
    "        l[i]=l[i].values[0]\n",
    "    except:\n",
    "        l[i]=2.15798491964917    #mean value of non-NaN values of rainfall\n",
    "l\n",
    "data2['Rainfall']=l\n",
    "data2"
   ]
  },
  {
   "cell_type": "code",
   "execution_count": 28,
   "metadata": {},
   "outputs": [
    {
     "data": {
      "text/plain": [
       "S.No            0\n",
       "Crop            0\n",
       "Dist_id         0\n",
       "District        0\n",
       "Year            0\n",
       "Season          0\n",
       "Season_yield    0\n",
       "Total           0\n",
       "Rainfall        0\n",
       "dtype: int64"
      ]
     },
     "execution_count": 28,
     "metadata": {},
     "output_type": "execute_result"
    }
   ],
   "source": [
    "data2.isnull().sum() #checking null values to see if data merge is succesful"
   ]
  },
  {
   "cell_type": "markdown",
   "metadata": {},
   "source": [
    "# SAVING DATASET"
   ]
  },
  {
   "cell_type": "code",
   "execution_count": 29,
   "metadata": {},
   "outputs": [],
   "source": [
    "data2.to_csv('Modified_yield_data.csv')"
   ]
  },
  {
   "cell_type": "markdown",
   "metadata": {},
   "source": [
    "# STATISTICAL ANALYSIS"
   ]
  },
  {
   "cell_type": "code",
   "execution_count": 30,
   "metadata": {},
   "outputs": [
    {
     "name": "stderr",
     "output_type": "stream",
     "text": [
      "C:\\Users\\ashwi\\anaconda3\\lib\\site-packages\\seaborn\\_decorators.py:36: FutureWarning: Pass the following variables as keyword args: x, y. From version 0.12, the only valid positional argument will be `data`, and passing other arguments without an explicit keyword will result in an error or misinterpretation.\n",
      "  warnings.warn(\n"
     ]
    },
    {
     "data": {
      "image/png": "[encoded data removed]",
      "text/plain": [
       "<Figure size 432x288 with 1 Axes>"
      ]
     },
     "metadata": {
      "needs_background": "light"
     },
     "output_type": "display_data"
    }
   ],
   "source": [
    "fig = plt.figure()\n",
    "ax = fig.add_axes([0,0,1,1])\n",
    "sns.barplot(data2.Season,data2.Season_yield)\n",
    "plt.gca().set(title='Season_yield by season', xlabel='Season (0:Kharif 1:Rabi)', ylabel='Season_yield')\n",
    "plt.show()"
   ]
  },
  {
   "cell_type": "code",
   "execution_count": 30,
   "metadata": {},
   "outputs": [
    {
     "name": "stderr",
     "output_type": "stream",
     "text": [
      "C:\\Users\\ashwi\\anaconda3\\lib\\site-packages\\seaborn\\_decorators.py:36: FutureWarning: Pass the following variables as keyword args: x, y. From version 0.12, the only valid positional argument will be `data`, and passing other arguments without an explicit keyword will result in an error or misinterpretation.\n",
      "  warnings.warn(\n"
     ]
    },
    {
     "data": {
      "image/png": "[encoded data removed]",
      "text/plain": [
       "<Figure size 432x288 with 1 Axes>"
      ]
     },
     "metadata": {
      "needs_background": "light"
     },
     "output_type": "display_data"
    }
   ],
   "source": [
    "fig = plt.figure()\n",
    "ax = fig.add_axes([0,0,1,1])\n",
    "sns.barplot(data2.Year,data2.Season_yield)\n",
    "plt.gca().set(title='Season_yield of each year', xlabel='Year', ylabel='Season_yield')\n",
    "plt.show()"
   ]
  },
  {
   "cell_type": "markdown",
   "metadata": {},
   "source": [
    "YEAR WISE MAXIMUM YIELD BASED ON TOTAL YIELD"
   ]
  },
  {
   "cell_type": "code",
   "execution_count": 31,
   "metadata": {},
   "outputs": [
    {
     "name": "stdout",
     "output_type": "stream",
     "text": [
      "1) 2017-2018:  514320\n",
      "2) 2018-2019:  493902\n",
      "3) 2016-2017:  450870\n"
     ]
    }
   ],
   "source": [
    "d={}\n",
    "for year in set(data1.Year):\n",
    "    d[year]=data1[data1.Year==year].Total.sum()\n",
    "d=sorted(d.items(), key=lambda x:x[1], reverse=True)\n",
    "i=0\n",
    "for key,value in d:\n",
    "    i+=1\n",
    "    print(\"{}) {}: \".format(i,key),value)"
   ]
  },
  {
   "cell_type": "markdown",
   "metadata": {},
   "source": [
    "SEASON WISE MAXIMUM YIELD BASED ON SEASON YIELD"
   ]
  },
  {
   "cell_type": "code",
   "execution_count": 32,
   "metadata": {},
   "outputs": [
    {
     "name": "stdout",
     "output_type": "stream",
     "text": [
      "1) rabi:  890551\n",
      "2) kharif:  487696\n"
     ]
    }
   ],
   "source": [
    "d={}\n",
    "for season in set(data1.Season):\n",
    "    d[season]=data1[data1.Season==season].Season_yield.sum()\n",
    "d=sorted(d.items(), key=lambda x:x[1], reverse=True)\n",
    "i=0\n",
    "for key,value in d:\n",
    "    i+=1\n",
    "    print(\"{}) {}: \".format(i,key),value)"
   ]
  },
  {
   "cell_type": "markdown",
   "metadata": {},
   "source": [
    "CROP WISE MAXIMUM YIELD BASED ON TOTAL YIELD"
   ]
  },
  {
   "cell_type": "code",
   "execution_count": 33,
   "metadata": {},
   "outputs": [
    {
     "name": "stdout",
     "output_type": "stream",
     "text": [
      "S.No                    515\n",
      "Crop            bengal gram\n",
      "Dist_id                  27\n",
      "District           SIDDIPET\n",
      "Year              2018-2019\n",
      "Season               kharif\n",
      "Season_yield              0\n",
      "Total                  2257\n",
      "Name: 513, dtype: object \n",
      "\n",
      "\n",
      "S.No                  250\n",
      "Crop                maize\n",
      "Dist_id                 1\n",
      "District         ADILABAD\n",
      "Year            2017-2018\n",
      "Season             kharif\n",
      "Season_yield         3450\n",
      "Total                9282\n",
      "Name: 248, dtype: object \n",
      "\n",
      "\n",
      "S.No                       198\n",
      "Crop                 groundnut\n",
      "Dist_id                     31\n",
      "District        WARANGAL RURAL\n",
      "Year                 2017-2018\n",
      "Season                  kharif\n",
      "Season_yield              4016\n",
      "Total                     3281\n",
      "Name: 196, dtype: object \n",
      "\n",
      "\n"
     ]
    }
   ],
   "source": [
    "for crop in set(data1.Crop):\n",
    "    maxValueIndex = data1[data1.Crop==crop].iloc[:,-1].idxmax()\n",
    "    print(data1.loc[maxValueIndex],'\\n'*2)"
   ]
  },
  {
   "cell_type": "markdown",
   "metadata": {},
   "source": [
    "SEASON WISE MAXIMUM YIELD BASED ON SEASONAL YIELD"
   ]
  },
  {
   "cell_type": "code",
   "execution_count": 34,
   "metadata": {},
   "outputs": [
    {
     "name": "stdout",
     "output_type": "stream",
     "text": [
      "kharif **************\n",
      "S.No                    257\n",
      "Crop                  maize\n",
      "Dist_id                   6\n",
      "District        JAYASHANKAR\n",
      "Year              2017-2018\n",
      "Season               kharif\n",
      "Season_yield           7004\n",
      "Total                  9023\n",
      "Name: 255, dtype: object\n",
      "\n",
      "rabi **************\n",
      "S.No                  281\n",
      "Crop                maize\n",
      "Dist_id                 1\n",
      "District         ADILABAD\n",
      "Year            2017-2018\n",
      "Season               rabi\n",
      "Season_yield        10982\n",
      "Total                9282\n",
      "Name: 279, dtype: object\n",
      "\n"
     ]
    }
   ],
   "source": [
    "for season in set(data1.Season):\n",
    "    print(season,\"**************\")\n",
    "    maxValueIndex = data1[data1.Season==season].iloc[:,-2].idxmax()\n",
    "    print(data1.loc[maxValueIndex])\n",
    "    print()"
   ]
  },
  {
   "cell_type": "markdown",
   "metadata": {},
   "source": [
    "TOTAL YIELD OF EACH DISTRICT OF TELANGANA"
   ]
  },
  {
   "cell_type": "code",
   "execution_count": 35,
   "metadata": {},
   "outputs": [
    {
     "name": "stdout",
     "output_type": "stream",
     "text": [
      "1) WARANGAL RURAL:  72760\n",
      "2) PEDDAPALLI:  66038\n",
      "3) NIRMAL:  64954\n",
      "4) JAYASHANKAR:  63546\n",
      "5) ADILABAD:  63456\n",
      "6) WARANGAL URBAN:  59720\n",
      "7) KARIMNAGAR:  59296\n",
      "8) NIZAMABAD:  56872\n",
      "9) KHAMMAM:  56430\n",
      "10) KAMAREDDY:  55124\n",
      "11) SURYAPET:  54692\n",
      "12) MANCHERIAL:  51010\n",
      "13) RAJANNA:  49740\n",
      "14) JANGAON:  49394\n",
      "15) JAGTIAL:  49286\n",
      "16) BHADRADRI:  48848\n",
      "17) KOMARAM BHEEM:  47974\n",
      "18) MAHABUBABAD:  44490\n",
      "19) NALGONDA:  43624\n",
      "20) VIKARABAD:  41300\n",
      "21) WANAPARTHY:  40868\n",
      "22) MEDAK:  40500\n",
      "23) SANGAREDDY:  40474\n",
      "24) SIDDIPET:  39838\n",
      "25) JOGULAMBA:  38492\n",
      "26) YADADRI:  36000\n",
      "27) RANGAREDDY:  35904\n",
      "28) NAGARKURNOOL:  30470\n",
      "29) MAHABUBNAGAR:  29236\n",
      "30) MEDCHAL MALKAJG:  28756\n",
      "31) HYDERABAD:  0\n"
     ]
    }
   ],
   "source": [
    "d={}\n",
    "for district in set(data1.District):\n",
    "    d[district]=data1[data1.District==district].Total.sum()\n",
    "d=sorted(d.items(), key=lambda x:x[1], reverse=True)\n",
    "i=0\n",
    "for key,value in d:\n",
    "    i+=1\n",
    "    print(\"{}) {}: \".format(i,key),value)"
   ]
  },
  {
   "cell_type": "code",
   "execution_count": 36,
   "metadata": {},
   "outputs": [
    {
     "data": {
      "text/plain": [
       "Index(['S.No', 'Crop', 'Dist_id', 'District', 'Year', 'Season', 'Season_yield',\n",
       "       'Total', 'Rainfall'],\n",
       "      dtype='object')"
      ]
     },
     "execution_count": 36,
     "metadata": {},
     "output_type": "execute_result"
    }
   ],
   "source": [
    "data2.columns"
   ]
  },
  {
   "cell_type": "code",
   "execution_count": 37,
   "metadata": {
    "scrolled": false
   },
   "outputs": [
    {
     "name": "stderr",
     "output_type": "stream",
     "text": [
      "C:\\Users\\ashwi\\anaconda3\\lib\\site-packages\\seaborn\\_decorators.py:36: FutureWarning: Pass the following variables as keyword args: x, y. From version 0.12, the only valid positional argument will be `data`, and passing other arguments without an explicit keyword will result in an error or misinterpretation.\n",
      "  warnings.warn(\n"
     ]
    },
    {
     "data": {
      "image/png": "[encoded data removed]",
      "text/plain": [
       "<Figure size 6000x4000 with 1 Axes>"
      ]
     },
     "metadata": {
      "needs_background": "light"
     },
     "output_type": "display_data"
    }
   ],
   "source": [
    "plt.figure(figsize=(60,40), dpi=100)\n",
    "sns.barplot(data2.Total,data2.Rainfall)\n",
    "plt.gca().set(title='Total yield by rainfall', xlabel='Total yield', ylabel='Rainfall')\n",
    "plt.show()"
   ]
  },
  {
   "cell_type": "code",
   "execution_count": 38,
   "metadata": {},
   "outputs": [
    {
     "data": {
      "image/png": "[encoded data removed]",
      "text/plain": [
       "<Figure size 720x720 with 1 Axes>"
      ]
     },
     "metadata": {
      "needs_background": "light"
     },
     "output_type": "display_data"
    }
   ],
   "source": [
    "plt.figure(figsize=(10,10))\n",
    "plt.scatter(data2.Total,data2.Rainfall)\n",
    "plt.gca().set(title='Total yield by rainfall scatter plot', xlabel='Total yield', ylabel='Rainfall')\n",
    "plt.show()"
   ]
  },
  {
   "cell_type": "markdown",
   "metadata": {},
   "source": [
    "# DETECTING OUTLIERS"
   ]
  },
  {
   "cell_type": "code",
   "execution_count": 39,
   "metadata": {},
   "outputs": [
    {
     "data": {
      "text/plain": [
       "1651.0"
      ]
     },
     "execution_count": 39,
     "metadata": {},
     "output_type": "execute_result"
    }
   ],
   "source": [
    "from scipy.stats import iqr        #calculate inter quartile range\n",
    "iqr(data2['Total'], axis=0)"
   ]
  },
  {
   "cell_type": "code",
   "execution_count": 40,
   "metadata": {},
   "outputs": [
    {
     "name": "stdout",
     "output_type": "stream",
     "text": [
      "Q1:1516.0 IQR:1651.0 Q3:3167.0\n"
     ]
    }
   ],
   "source": [
    "Q1 = np.quantile(data2.Total,0.25)     #calculate  first quadrant value\n",
    "Q3 = np.quantile(data2.Total,0.75)     #calculate  third quadrant value\n",
    "IQR = Q3 - Q1\n",
    "print('Q1:{} IQR:{} Q3:{}'.format(Q1,IQR,Q3))"
   ]
  },
  {
   "cell_type": "markdown",
   "metadata": {},
   "source": [
    "REMOVING VALUES(OUTLIERS) THAT ARE NOT IN RANGE (Q1-1.5*IQR , Q3+1.5*IQR)"
   ]
  },
  {
   "cell_type": "code",
   "execution_count": 41,
   "metadata": {},
   "outputs": [
    {
     "data": {
      "text/html": [
       "<div>\n",
       "<style scoped>\n",
       "    .dataframe tbody tr th:only-of-type {\n",
       "        vertical-align: middle;\n",
       "    }\n",
       "\n",
       "    .dataframe tbody tr th {\n",
       "        vertical-align: top;\n",
       "    }\n",
       "\n",
       "    .dataframe thead th {\n",
       "        text-align: right;\n",
       "    }\n",
       "</style>\n",
       "<table border=\"1\" class=\"dataframe\">\n",
       "  <thead>\n",
       "    <tr style=\"text-align: right;\">\n",
       "      <th></th>\n",
       "      <th>S.No</th>\n",
       "      <th>Crop</th>\n",
       "      <th>Dist_id</th>\n",
       "      <th>District</th>\n",
       "      <th>Year</th>\n",
       "      <th>Season</th>\n",
       "      <th>Season_yield</th>\n",
       "      <th>Total</th>\n",
       "      <th>Rainfall</th>\n",
       "    </tr>\n",
       "  </thead>\n",
       "  <tbody>\n",
       "    <tr>\n",
       "      <th>186</th>\n",
       "      <td>188</td>\n",
       "      <td>groundnut</td>\n",
       "      <td>1</td>\n",
       "      <td>ADILABAD</td>\n",
       "      <td>2017-2018</td>\n",
       "      <td>kharif</td>\n",
       "      <td>0</td>\n",
       "      <td>2236</td>\n",
       "      <td>4.855736</td>\n",
       "    </tr>\n",
       "    <tr>\n",
       "      <th>187</th>\n",
       "      <td>189</td>\n",
       "      <td>groundnut</td>\n",
       "      <td>11</td>\n",
       "      <td>KOMARAM BHEEM</td>\n",
       "      <td>2017-2018</td>\n",
       "      <td>kharif</td>\n",
       "      <td>0</td>\n",
       "      <td>0</td>\n",
       "      <td>2.157985</td>\n",
       "    </tr>\n",
       "    <tr>\n",
       "      <th>188</th>\n",
       "      <td>190</td>\n",
       "      <td>groundnut</td>\n",
       "      <td>13</td>\n",
       "      <td>MANCHERIAL</td>\n",
       "      <td>2017-2018</td>\n",
       "      <td>kharif</td>\n",
       "      <td>2188</td>\n",
       "      <td>2237</td>\n",
       "      <td>4.958356</td>\n",
       "    </tr>\n",
       "    <tr>\n",
       "      <th>189</th>\n",
       "      <td>191</td>\n",
       "      <td>groundnut</td>\n",
       "      <td>21</td>\n",
       "      <td>NIRMAL</td>\n",
       "      <td>2017-2018</td>\n",
       "      <td>kharif</td>\n",
       "      <td>0</td>\n",
       "      <td>2236</td>\n",
       "      <td>4.560120</td>\n",
       "    </tr>\n",
       "    <tr>\n",
       "      <th>190</th>\n",
       "      <td>192</td>\n",
       "      <td>groundnut</td>\n",
       "      <td>22</td>\n",
       "      <td>NIZAMABAD</td>\n",
       "      <td>2017-2018</td>\n",
       "      <td>kharif</td>\n",
       "      <td>2188</td>\n",
       "      <td>2226</td>\n",
       "      <td>4.894814</td>\n",
       "    </tr>\n",
       "    <tr>\n",
       "      <th>...</th>\n",
       "      <td>...</td>\n",
       "      <td>...</td>\n",
       "      <td>...</td>\n",
       "      <td>...</td>\n",
       "      <td>...</td>\n",
       "      <td>...</td>\n",
       "      <td>...</td>\n",
       "      <td>...</td>\n",
       "      <td>...</td>\n",
       "    </tr>\n",
       "    <tr>\n",
       "      <th>553</th>\n",
       "      <td>555</td>\n",
       "      <td>bengal gram</td>\n",
       "      <td>30</td>\n",
       "      <td>WANAPARTHY</td>\n",
       "      <td>2018-2019</td>\n",
       "      <td>rabi</td>\n",
       "      <td>2140</td>\n",
       "      <td>2140</td>\n",
       "      <td>0.024882</td>\n",
       "    </tr>\n",
       "    <tr>\n",
       "      <th>554</th>\n",
       "      <td>556</td>\n",
       "      <td>bengal gram</td>\n",
       "      <td>18</td>\n",
       "      <td>NAGARKURNOOL</td>\n",
       "      <td>2018-2019</td>\n",
       "      <td>rabi</td>\n",
       "      <td>1569</td>\n",
       "      <td>1569</td>\n",
       "      <td>0.079404</td>\n",
       "    </tr>\n",
       "    <tr>\n",
       "      <th>555</th>\n",
       "      <td>557</td>\n",
       "      <td>bengal gram</td>\n",
       "      <td>19</td>\n",
       "      <td>NALGONDA</td>\n",
       "      <td>2018-2019</td>\n",
       "      <td>rabi</td>\n",
       "      <td>1569</td>\n",
       "      <td>1569</td>\n",
       "      <td>0.095920</td>\n",
       "    </tr>\n",
       "    <tr>\n",
       "      <th>556</th>\n",
       "      <td>558</td>\n",
       "      <td>bengal gram</td>\n",
       "      <td>28</td>\n",
       "      <td>SURYAPET</td>\n",
       "      <td>2018-2019</td>\n",
       "      <td>rabi</td>\n",
       "      <td>1569</td>\n",
       "      <td>1569</td>\n",
       "      <td>0.162741</td>\n",
       "    </tr>\n",
       "    <tr>\n",
       "      <th>557</th>\n",
       "      <td>559</td>\n",
       "      <td>bengal gram</td>\n",
       "      <td>10</td>\n",
       "      <td>KHAMMAM</td>\n",
       "      <td>2018-2019</td>\n",
       "      <td>rabi</td>\n",
       "      <td>1569</td>\n",
       "      <td>1569</td>\n",
       "      <td>0.511447</td>\n",
       "    </tr>\n",
       "  </tbody>\n",
       "</table>\n",
       "<p>372 rows × 9 columns</p>\n",
       "</div>"
      ],
      "text/plain": [
       "     S.No         Crop  Dist_id       District       Year  Season  \\\n",
       "186   188    groundnut        1       ADILABAD  2017-2018  kharif   \n",
       "187   189    groundnut       11  KOMARAM BHEEM  2017-2018  kharif   \n",
       "188   190    groundnut       13     MANCHERIAL  2017-2018  kharif   \n",
       "189   191    groundnut       21         NIRMAL  2017-2018  kharif   \n",
       "190   192    groundnut       22      NIZAMABAD  2017-2018  kharif   \n",
       "..    ...          ...      ...            ...        ...     ...   \n",
       "553   555  bengal gram       30     WANAPARTHY  2018-2019    rabi   \n",
       "554   556  bengal gram       18   NAGARKURNOOL  2018-2019    rabi   \n",
       "555   557  bengal gram       19       NALGONDA  2018-2019    rabi   \n",
       "556   558  bengal gram       28       SURYAPET  2018-2019    rabi   \n",
       "557   559  bengal gram       10        KHAMMAM  2018-2019    rabi   \n",
       "\n",
       "     Season_yield  Total  Rainfall  \n",
       "186             0   2236  4.855736  \n",
       "187             0      0  2.157985  \n",
       "188          2188   2237  4.958356  \n",
       "189             0   2236  4.560120  \n",
       "190          2188   2226  4.894814  \n",
       "..            ...    ...       ...  \n",
       "553          2140   2140  0.024882  \n",
       "554          1569   1569  0.079404  \n",
       "555          1569   1569  0.095920  \n",
       "556          1569   1569  0.162741  \n",
       "557          1569   1569  0.511447  \n",
       "\n",
       "[372 rows x 9 columns]"
      ]
     },
     "execution_count": 41,
     "metadata": {},
     "output_type": "execute_result"
    }
   ],
   "source": [
    "temp_df=data2\n",
    "l1= Q1-1.5*IQR\n",
    "l2= Q3+1.5*IQR\n",
    "for i in range (len(temp_df)):\n",
    "    if temp_df.iloc[i,-2]>l2 or temp_df.iloc[i,-2]<l1:\n",
    "        try:\n",
    "            del temp_df.iloc[i,:]\n",
    "        except:\n",
    "            pass\n",
    "temp_df"
   ]
  },
  {
   "cell_type": "markdown",
   "metadata": {},
   "source": [
    "CHECKING OUTLIERS FOR RAINFALL"
   ]
  },
  {
   "cell_type": "code",
   "execution_count": 42,
   "metadata": {},
   "outputs": [
    {
     "data": {
      "text/plain": [
       "2.6967815343509414"
      ]
     },
     "execution_count": 42,
     "metadata": {},
     "output_type": "execute_result"
    }
   ],
   "source": [
    "iqr(temp_df['Rainfall'], axis=0)"
   ]
  },
  {
   "cell_type": "code",
   "execution_count": 43,
   "metadata": {},
   "outputs": [
    {
     "name": "stdout",
     "output_type": "stream",
     "text": [
      "Q1:0.17345474613686535 IQR:2.6967815343509414 Q3:2.8702362804878065\n"
     ]
    }
   ],
   "source": [
    "Q1 = np.quantile(temp_df.Rainfall,0.25)\n",
    "Q3 = np.quantile(temp_df.Rainfall,0.75)\n",
    "IQR = Q3 - Q1\n",
    "print('Q1:{} IQR:{} Q3:{}'.format(Q1,IQR,Q3))"
   ]
  },
  {
   "cell_type": "code",
   "execution_count": 44,
   "metadata": {},
   "outputs": [
    {
     "data": {
      "text/html": [
       "<div>\n",
       "<style scoped>\n",
       "    .dataframe tbody tr th:only-of-type {\n",
       "        vertical-align: middle;\n",
       "    }\n",
       "\n",
       "    .dataframe tbody tr th {\n",
       "        vertical-align: top;\n",
       "    }\n",
       "\n",
       "    .dataframe thead th {\n",
       "        text-align: right;\n",
       "    }\n",
       "</style>\n",
       "<table border=\"1\" class=\"dataframe\">\n",
       "  <thead>\n",
       "    <tr style=\"text-align: right;\">\n",
       "      <th></th>\n",
       "      <th>S.No</th>\n",
       "      <th>Crop</th>\n",
       "      <th>Dist_id</th>\n",
       "      <th>District</th>\n",
       "      <th>Year</th>\n",
       "      <th>Season</th>\n",
       "      <th>Season_yield</th>\n",
       "      <th>Total</th>\n",
       "      <th>Rainfall</th>\n",
       "    </tr>\n",
       "  </thead>\n",
       "  <tbody>\n",
       "    <tr>\n",
       "      <th>186</th>\n",
       "      <td>188</td>\n",
       "      <td>groundnut</td>\n",
       "      <td>1</td>\n",
       "      <td>ADILABAD</td>\n",
       "      <td>2017-2018</td>\n",
       "      <td>kharif</td>\n",
       "      <td>0</td>\n",
       "      <td>2236</td>\n",
       "      <td>4.855736</td>\n",
       "    </tr>\n",
       "    <tr>\n",
       "      <th>187</th>\n",
       "      <td>189</td>\n",
       "      <td>groundnut</td>\n",
       "      <td>11</td>\n",
       "      <td>KOMARAM BHEEM</td>\n",
       "      <td>2017-2018</td>\n",
       "      <td>kharif</td>\n",
       "      <td>0</td>\n",
       "      <td>0</td>\n",
       "      <td>2.157985</td>\n",
       "    </tr>\n",
       "    <tr>\n",
       "      <th>188</th>\n",
       "      <td>190</td>\n",
       "      <td>groundnut</td>\n",
       "      <td>13</td>\n",
       "      <td>MANCHERIAL</td>\n",
       "      <td>2017-2018</td>\n",
       "      <td>kharif</td>\n",
       "      <td>2188</td>\n",
       "      <td>2237</td>\n",
       "      <td>4.958356</td>\n",
       "    </tr>\n",
       "    <tr>\n",
       "      <th>189</th>\n",
       "      <td>191</td>\n",
       "      <td>groundnut</td>\n",
       "      <td>21</td>\n",
       "      <td>NIRMAL</td>\n",
       "      <td>2017-2018</td>\n",
       "      <td>kharif</td>\n",
       "      <td>0</td>\n",
       "      <td>2236</td>\n",
       "      <td>4.560120</td>\n",
       "    </tr>\n",
       "    <tr>\n",
       "      <th>190</th>\n",
       "      <td>192</td>\n",
       "      <td>groundnut</td>\n",
       "      <td>22</td>\n",
       "      <td>NIZAMABAD</td>\n",
       "      <td>2017-2018</td>\n",
       "      <td>kharif</td>\n",
       "      <td>2188</td>\n",
       "      <td>2226</td>\n",
       "      <td>4.894814</td>\n",
       "    </tr>\n",
       "    <tr>\n",
       "      <th>...</th>\n",
       "      <td>...</td>\n",
       "      <td>...</td>\n",
       "      <td>...</td>\n",
       "      <td>...</td>\n",
       "      <td>...</td>\n",
       "      <td>...</td>\n",
       "      <td>...</td>\n",
       "      <td>...</td>\n",
       "      <td>...</td>\n",
       "    </tr>\n",
       "    <tr>\n",
       "      <th>553</th>\n",
       "      <td>555</td>\n",
       "      <td>bengal gram</td>\n",
       "      <td>30</td>\n",
       "      <td>WANAPARTHY</td>\n",
       "      <td>2018-2019</td>\n",
       "      <td>rabi</td>\n",
       "      <td>2140</td>\n",
       "      <td>2140</td>\n",
       "      <td>0.024882</td>\n",
       "    </tr>\n",
       "    <tr>\n",
       "      <th>554</th>\n",
       "      <td>556</td>\n",
       "      <td>bengal gram</td>\n",
       "      <td>18</td>\n",
       "      <td>NAGARKURNOOL</td>\n",
       "      <td>2018-2019</td>\n",
       "      <td>rabi</td>\n",
       "      <td>1569</td>\n",
       "      <td>1569</td>\n",
       "      <td>0.079404</td>\n",
       "    </tr>\n",
       "    <tr>\n",
       "      <th>555</th>\n",
       "      <td>557</td>\n",
       "      <td>bengal gram</td>\n",
       "      <td>19</td>\n",
       "      <td>NALGONDA</td>\n",
       "      <td>2018-2019</td>\n",
       "      <td>rabi</td>\n",
       "      <td>1569</td>\n",
       "      <td>1569</td>\n",
       "      <td>0.095920</td>\n",
       "    </tr>\n",
       "    <tr>\n",
       "      <th>556</th>\n",
       "      <td>558</td>\n",
       "      <td>bengal gram</td>\n",
       "      <td>28</td>\n",
       "      <td>SURYAPET</td>\n",
       "      <td>2018-2019</td>\n",
       "      <td>rabi</td>\n",
       "      <td>1569</td>\n",
       "      <td>1569</td>\n",
       "      <td>0.162741</td>\n",
       "    </tr>\n",
       "    <tr>\n",
       "      <th>557</th>\n",
       "      <td>559</td>\n",
       "      <td>bengal gram</td>\n",
       "      <td>10</td>\n",
       "      <td>KHAMMAM</td>\n",
       "      <td>2018-2019</td>\n",
       "      <td>rabi</td>\n",
       "      <td>1569</td>\n",
       "      <td>1569</td>\n",
       "      <td>0.511447</td>\n",
       "    </tr>\n",
       "  </tbody>\n",
       "</table>\n",
       "<p>372 rows × 9 columns</p>\n",
       "</div>"
      ],
      "text/plain": [
       "     S.No         Crop  Dist_id       District       Year  Season  \\\n",
       "186   188    groundnut        1       ADILABAD  2017-2018  kharif   \n",
       "187   189    groundnut       11  KOMARAM BHEEM  2017-2018  kharif   \n",
       "188   190    groundnut       13     MANCHERIAL  2017-2018  kharif   \n",
       "189   191    groundnut       21         NIRMAL  2017-2018  kharif   \n",
       "190   192    groundnut       22      NIZAMABAD  2017-2018  kharif   \n",
       "..    ...          ...      ...            ...        ...     ...   \n",
       "553   555  bengal gram       30     WANAPARTHY  2018-2019    rabi   \n",
       "554   556  bengal gram       18   NAGARKURNOOL  2018-2019    rabi   \n",
       "555   557  bengal gram       19       NALGONDA  2018-2019    rabi   \n",
       "556   558  bengal gram       28       SURYAPET  2018-2019    rabi   \n",
       "557   559  bengal gram       10        KHAMMAM  2018-2019    rabi   \n",
       "\n",
       "     Season_yield  Total  Rainfall  \n",
       "186             0   2236  4.855736  \n",
       "187             0      0  2.157985  \n",
       "188          2188   2237  4.958356  \n",
       "189             0   2236  4.560120  \n",
       "190          2188   2226  4.894814  \n",
       "..            ...    ...       ...  \n",
       "553          2140   2140  0.024882  \n",
       "554          1569   1569  0.079404  \n",
       "555          1569   1569  0.095920  \n",
       "556          1569   1569  0.162741  \n",
       "557          1569   1569  0.511447  \n",
       "\n",
       "[372 rows x 9 columns]"
      ]
     },
     "execution_count": 44,
     "metadata": {},
     "output_type": "execute_result"
    }
   ],
   "source": [
    "l1= Q1-1.5*IQR\n",
    "l2= Q3+1.5*IQR\n",
    "for i in range (len(temp_df)):\n",
    "    if temp_df.iloc[i,-1]>l2 or temp_df.iloc[i,-1]<l1:\n",
    "        try:\n",
    "            del temp_df.iloc[i,:]\n",
    "        except:\n",
    "            pass\n",
    "temp_df"
   ]
  },
  {
   "cell_type": "markdown",
   "metadata": {},
   "source": [
    "# MODEL BUILDUING"
   ]
  },
  {
   "cell_type": "code",
   "execution_count": 64,
   "metadata": {},
   "outputs": [],
   "source": [
    "le=LabelEncoder()"
   ]
  },
  {
   "cell_type": "code",
   "execution_count": 46,
   "metadata": {},
   "outputs": [
    {
     "name": "stderr",
     "output_type": "stream",
     "text": [
      "<ipython-input-46-8e47ce41cb89>:3: SettingWithCopyWarning: \n",
      "A value is trying to be set on a copy of a slice from a DataFrame.\n",
      "Try using .loc[row_indexer,col_indexer] = value instead\n",
      "\n",
      "See the caveats in the documentation: https://pandas.pydata.org/pandas-docs/stable/user_guide/indexing.html#returning-a-view-versus-a-copy\n",
      "  tempp['Crop']=le.fit_transform(tempp['Crop'])                           #label encoding crop,season columns\n",
      "<ipython-input-46-8e47ce41cb89>:4: SettingWithCopyWarning: \n",
      "A value is trying to be set on a copy of a slice from a DataFrame.\n",
      "Try using .loc[row_indexer,col_indexer] = value instead\n",
      "\n",
      "See the caveats in the documentation: https://pandas.pydata.org/pandas-docs/stable/user_guide/indexing.html#returning-a-view-versus-a-copy\n",
      "  tempp['Season']=le.fit_transform(tempp['Season'])\n"
     ]
    }
   ],
   "source": [
    "le=LabelEncoder()\n",
    "tempp=data2\n",
    "tempp['Crop']=le.fit_transform(tempp['Crop'])                 #label encoding crop,season columns\n",
    "tempp['Season']=le.fit_transform(tempp['Season'])"
   ]
  },
  {
   "cell_type": "code",
   "execution_count": 47,
   "metadata": {},
   "outputs": [],
   "source": [
    "x=tempp[['Dist_id', 'Season','Crop','Rainfall']].values                #defining independent, dependent variables\n",
    "y=tempp['Season_yield'].values "
   ]
  },
  {
   "cell_type": "code",
   "execution_count": 48,
   "metadata": {},
   "outputs": [],
   "source": [
    "from sklearn.model_selection import train_test_split                                    #splitting data\n",
    "x_train,x_test,y_train,y_test=train_test_split(x,y,test_size=0.2,random_state=0)"
   ]
  },
  {
   "cell_type": "code",
   "execution_count": 49,
   "metadata": {},
   "outputs": [
    {
     "data": {
      "text/plain": [
       "RandomForestRegressor(random_state=0)"
      ]
     },
     "execution_count": 49,
     "metadata": {},
     "output_type": "execute_result"
    }
   ],
   "source": [
    "# Fitting Random Forest Regression to the dataset\n",
    "# import the regressor\n",
    "\n",
    "\n",
    "# create regressor object\n",
    "\n",
    "regressor = RandomForestRegressor(n_estimators = 100, random_state = 0)\n",
    "\n",
    "# fit the regressor with x and y data\n",
    "\n",
    "regressor.fit(x_train, y_train)\n",
    "\n"
   ]
  },
  {
   "cell_type": "markdown",
   "metadata": {},
   "source": [
    "# MODEL EVALUATION"
   ]
  },
  {
   "cell_type": "code",
   "execution_count": 51,
   "metadata": {},
   "outputs": [],
   "source": [
    "reg_pred = regressor.predict(x_test)   #predicting values"
   ]
  },
  {
   "cell_type": "code",
   "execution_count": 65,
   "metadata": {},
   "outputs": [
    {
     "name": "stdout",
     "output_type": "stream",
     "text": [
      "model accuracy: 0.8503142323685219\n",
      "mean_absolute_error:  646.9422704761904\n",
      "r2_score:  0.8503142323685219\n"
     ]
    }
   ],
   "source": [
    "print('model accuracy:',regressor.score(x_test, y_test))\n",
    "print('mean_absolute_error: ',mean_absolute_error(y_test, reg_pred))\n",
    "print(\"r2_score: \",r2_score(y_test,reg_pred))"
   ]
  },
  {
   "cell_type": "code",
   "execution_count": 54,
   "metadata": {},
   "outputs": [],
   "source": [
    "l=[i[3] for i in x_test] #rainfall data of x_test"
   ]
  },
  {
   "cell_type": "code",
   "execution_count": 62,
   "metadata": {},
   "outputs": [
    {
     "name": "stderr",
     "output_type": "stream",
     "text": [
      "C:\\Users\\ashwi\\anaconda3\\lib\\site-packages\\seaborn\\_decorators.py:36: FutureWarning: Pass the following variables as keyword args: x, y. From version 0.12, the only valid positional argument will be `data`, and passing other arguments without an explicit keyword will result in an error or misinterpretation.\n",
      "  warnings.warn(\n",
      "C:\\Users\\ashwi\\anaconda3\\lib\\site-packages\\seaborn\\_decorators.py:36: FutureWarning: Pass the following variables as keyword args: x, y. From version 0.12, the only valid positional argument will be `data`, and passing other arguments without an explicit keyword will result in an error or misinterpretation.\n",
      "  warnings.warn(\n"
     ]
    },
    {
     "data": {
      "image/png": "[encoded data removed]",
      "text/plain": [
       "<Figure size 1440x576 with 1 Axes>"
      ]
     },
     "metadata": {
      "needs_background": "light"
     },
     "output_type": "display_data"
    }
   ],
   "source": [
    "plt.figure(figsize=(20,8))\n",
    "sns.lineplot(l,y_test)\n",
    "sns.lineplot(l,reg_pred)\n",
    "plt.gca().set(title='Rainfall vs yield', xlabel='Rainfall', ylabel='Yield')\n",
    "plt.legend(labels=[\"original\",\"model\"])\n",
    "plt.show()"
   ]
  },
  {
   "cell_type": "code",
   "execution_count": null,
   "metadata": {},
   "outputs": [],
   "source": []
  }
 ],
 "metadata": {
  "kernelspec": {
   "display_name": "Python 3",
   "language": "python",
   "name": "python3"
  },
  "language_info": {
   "codemirror_mode": {
    "name": "ipython",
    "version": 3
   },
   "file_extension": ".py",
   "mimetype": "text/x-python",
   "name": "python",
   "nbconvert_exporter": "python",
   "pygments_lexer": "ipython3",
   "version": "3.8.5"
  }
 },
 "nbformat": 4,
 "nbformat_minor": 4
}
