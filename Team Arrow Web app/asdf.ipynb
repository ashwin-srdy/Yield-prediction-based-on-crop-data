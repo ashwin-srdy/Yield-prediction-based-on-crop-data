{
 "cells": [
  {
   "cell_type": "code",
   "execution_count": 1,
   "source": [
    "import pickle\r\n",
    "from flask import Flask , request, render_template\r\n",
    "app = Flask(__name__)\r\n",
    "model = pickle.load(open(\"model.pkl\",\"rb\"))\r\n",
    "\r\n",
    "@app.route('/')\r\n",
    "def index():\r\n",
    "\treturn render_template('index.html')\r\n",
    "@app.route('/input')\r\n",
    "def indput():\r\n",
    "\treturn render_template('input-pagec.html')\r\n",
    "@app.route('/predict',methods = ['GET','POST'])\r\n",
    "def admin():\r\n",
    "    dist=eval(request.form[\"district\"])\r\n",
    "    season=eval(request.form[\"season\"])\r\n",
    "    crop=eval(request.form[\"crop\"])\r\n",
    "    rain=eval(request.form[\"rainfall\"])\r\n",
    "    preds=[[dist,season,crop,rain]]\r\n",
    "    xx=model.predict(preds)\r\n",
    "    return render_template(\"input-pagec.html\",p=\"yield is {} metric tonnes per hectare\".format(xx[0]))\r\n",
    "if __name__ == '__main__':\r\n",
    "    app.run(debug = False, port=4000)"
   ],
   "outputs": [
    {
     "output_type": "stream",
     "name": "stdout",
     "text": [
      " * Serving Flask app '__main__' (lazy loading)\n",
      " * Environment: production\n",
      "\u001b[31m   WARNING: This is a development server. Do not use it in a production deployment.\u001b[0m\n",
      "\u001b[2m   Use a production WSGI server instead.\u001b[0m\n",
      " * Debug mode: off\n"
     ]
    },
    {
     "output_type": "stream",
     "name": "stderr",
     "text": [
      "C:\\Users\\ankit\\AppData\\Roaming\\Python\\Python39\\site-packages\\sklearn\\base.py:310: UserWarning: Trying to unpickle estimator DecisionTreeRegressor from version 0.23.2 when using version 0.24.2. This might lead to breaking code or invalid results. Use at your own risk.\n",
      "  warnings.warn(\n",
      "C:\\Users\\ankit\\AppData\\Roaming\\Python\\Python39\\site-packages\\sklearn\\base.py:310: UserWarning: Trying to unpickle estimator RandomForestRegressor from version 0.23.2 when using version 0.24.2. This might lead to breaking code or invalid results. Use at your own risk.\n",
      "  warnings.warn(\n",
      " * Running on http://127.0.0.1:4000/ (Press CTRL+C to quit)\n",
      "127.0.0.1 - - [03/Oct/2021 11:01:12] \"GET / HTTP/1.1\" 200 -\n",
      "127.0.0.1 - - [03/Oct/2021 11:01:12] \"GET /styles.css HTTP/1.1\" 404 -\n",
      "127.0.0.1 - - [03/Oct/2021 11:01:12] \"GET /static//images/agriculture.jpg HTTP/1.1\" 308 -\n",
      "127.0.0.1 - - [03/Oct/2021 11:01:13] \"GET /static//images/zero.png HTTP/1.1\" 308 -\n",
      "127.0.0.1 - - [03/Oct/2021 11:01:13] \"GET /static//images/one.png HTTP/1.1\" 308 -\n",
      "127.0.0.1 - - [03/Oct/2021 11:01:13] \"GET /static//images/two.png HTTP/1.1\" 308 -\n",
      "127.0.0.1 - - [03/Oct/2021 11:01:13] \"GET /static/images/agriculture.jpg HTTP/1.1\" 200 -\n",
      "127.0.0.1 - - [03/Oct/2021 11:01:13] \"GET /static/images/zero.png HTTP/1.1\" 200 -\n",
      "127.0.0.1 - - [03/Oct/2021 11:01:13] \"GET /static/images/one.png HTTP/1.1\" 200 -\n",
      "127.0.0.1 - - [03/Oct/2021 11:01:13] \"GET /static/images/two.png HTTP/1.1\" 200 -\n",
      "127.0.0.1 - - [03/Oct/2021 11:01:14] \"GET /favicon.ico HTTP/1.1\" 404 -\n",
      "127.0.0.1 - - [03/Oct/2021 11:01:17] \"GET /input HTTP/1.1\" 200 -\n",
      "127.0.0.1 - - [03/Oct/2021 11:02:20] \"POST /predict HTTP/1.1\" 200 -\n",
      "127.0.0.1 - - [03/Oct/2021 11:11:38] \"GET /input HTTP/1.1\" 200 -\n",
      "127.0.0.1 - - [03/Oct/2021 11:11:59] \"POST /predict HTTP/1.1\" 200 -\n",
      "127.0.0.1 - - [03/Oct/2021 11:12:20] \"GET /input HTTP/1.1\" 200 -\n",
      "127.0.0.1 - - [03/Oct/2021 11:12:24] \"GET /input HTTP/1.1\" 200 -\n",
      "127.0.0.1 - - [03/Oct/2021 11:16:27] \"GET /input HTTP/1.1\" 200 -\n",
      "127.0.0.1 - - [03/Oct/2021 11:16:45] \"POST /predict HTTP/1.1\" 200 -\n",
      "127.0.0.1 - - [03/Oct/2021 11:24:07] \"GET /input HTTP/1.1\" 200 -\n",
      "127.0.0.1 - - [03/Oct/2021 11:24:26] \"POST /predict HTTP/1.1\" 200 -\n",
      "127.0.0.1 - - [03/Oct/2021 11:40:28] \"GET /input HTTP/1.1\" 200 -\n",
      "127.0.0.1 - - [03/Oct/2021 11:40:50] \"POST /predict HTTP/1.1\" 200 -\n",
      "127.0.0.1 - - [03/Oct/2021 11:45:27] \"GET /input HTTP/1.1\" 200 -\n",
      "127.0.0.1 - - [03/Oct/2021 11:45:45] \"POST /predict HTTP/1.1\" 200 -\n"
     ]
    }
   ],
   "metadata": {}
  }
 ],
 "metadata": {
  "orig_nbformat": 4,
  "language_info": {
   "name": "python",
   "version": "3.9.2",
   "mimetype": "text/x-python",
   "codemirror_mode": {
    "name": "ipython",
    "version": 3
   },
   "pygments_lexer": "ipython3",
   "nbconvert_exporter": "python",
   "file_extension": ".py"
  },
  "kernelspec": {
   "name": "python3",
   "display_name": "Python 3.9.2 64-bit"
  },
  "interpreter": {
   "hash": "ac59ebe37160ed0dfa835113d9b8498d9f09ceb179beaac4002f036b9467c963"
  }
 },
 "nbformat": 4,
 "nbformat_minor": 2
}